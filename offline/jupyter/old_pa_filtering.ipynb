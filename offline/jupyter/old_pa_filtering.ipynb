{
 "cells": [
  {
   "cell_type": "code",
   "execution_count": 1,
   "id": "3fcbd7f7-f6f2-4fbf-a06d-fabd39d72025",
   "metadata": {},
   "outputs": [],
   "source": [
    "import os\n",
    "import sys\n",
    "import h5py as h5\n",
    "import numpy as np\n",
    "import matplotlib as mpl\n",
    "from matplotlib import pyplot as plt\n",
    "from matplotlib import pylab as pl\n"
   ]
  },
  {
   "cell_type": "markdown",
   "id": "0d27c445-7573-4d17-bd95-75af4e66b1f1",
   "metadata": {},
   "source": [
    "# LOAD RUN"
   ]
  },
  {
   "cell_type": "code",
   "execution_count": 2,
   "id": "76b11c06-c060-44e6-adba-3952f847724b",
   "metadata": {},
   "outputs": [],
   "source": [
    "def load_data_filipe(file_inp, file_laser,norm=True, qnorm=[12,14]):\n",
    "    with h5.File(file_inp, 'r') as f:\n",
    "        #print(f['entry_1'].keys())\n",
    "        Sazi = np.asarray(f['entry_1']['radialavg'])\n",
    "        #print(Sazi.shape)\n",
    "        q = np.asarray(f['entry_1']['q'])\n",
    "        #print(q.shape)\n",
    "        cellID = np.asarray(f['entry_1']['cellId'][:,0]).squeeze()\n",
    "        #print(cellID.shape)\n",
    "        pulseID = np.asarray(f['entry_1']['pulseId'])\n",
    "        #print(pulseID.shape) \n",
    "        trainID = np.asarray(f['entry_1']['trainId'])\n",
    "    \n",
    "    with h5.File(file_laser, 'r') as f:\n",
    "        laser_on = np.asarray(f['entry_1']['laser_on'])\n",
    "        laser_train_id = np.asarray(f['entry_1']['trainId'])\n",
    "    \n",
    "    print(np.unique(trainID))\n",
    "    print(laser_train_id)\n",
    "    print(laser_on)\n",
    "\n",
    "    t=0\n",
    "    for i in range(len(cellID)-1):\n",
    "        if cellID[i]<cellID[i+1]:\n",
    "            train = trainID[t]\n",
    "        elif cellID[i]>cellID[i+1]:\n",
    "            t = t+1\n",
    "            train=trainID[t]\n",
    "\n",
    "    pump = trainID%2 #(np.random.random(len(cellID))>0.5)#\n",
    "    #print(Sazi.shape[0])\n",
    "    \n",
    "    pump = []\n",
    "    \n",
    "    #for pulse_tid in list(trainID):\n",
    "    #    index = list(laser_train_id).index(pulse_tid)\n",
    "    #    #print(index)\n",
    "    #    if laser_on[index]:\n",
    "    #        pump.append(1)\n",
    "    #        #print(pulse_tid, 'laser on')\n",
    "    #    else:\n",
    "    #        pump.append(0)\n",
    "    #        #print(pulse_tid, 'laser off')\n",
    "    #        \n",
    "    #pump_a = np.array(pump)\n",
    "    \n",
    "    #np.where(np.isnan(pump_a), 2, pump_a)\n",
    "    \n",
    "    \n",
    "    \n",
    "    \n",
    "    \n",
    "    pump = trainID[:]\n",
    "    \n",
    "    for i, tid in enumerate(laser_train_id):\n",
    "        pump[np.where(pump==tid)] = laser_on[i]\n",
    "\n",
    "    \n",
    "    \n",
    "    #print(pump)\n",
    "        \n",
    "    \n",
    "    cellIDs = cellID[:Sazi.shape[0]]\n",
    "    pulseIDs = pulseID[:Sazi.shape[0]]\n",
    "    pumps = pump[:Sazi.shape[0]]\n",
    "    \n",
    "    if norm:\n",
    "        sum_norm = np.nansum(np.abs(Sazi[:,np.logical_and(q>qnorm[0], q<qnorm[1])]),1)\n",
    "        for i in range(Sazi.shape[0]):\n",
    "            Sazi[i,:] = Sazi[i,:]/sum_norm[i]\n",
    "        \n",
    "        \n",
    "    return Sazi, q, cellIDs, pumps"
   ]
  },
  {
   "cell_type": "code",
   "execution_count": 3,
   "id": "b1a71548-67ae-4aa5-9c0a-613d66e1221f",
   "metadata": {},
   "outputs": [
    {
     "name": "stdout",
     "output_type": "stream",
     "text": [
      "[1474534437 1474534438 1474534439 ... 1474536186 1474536187 1474536188]\n",
      "[1474534437 1474534438 1474534439 ... 1474536186 1474536187 1474536188]\n",
      "[ True False  True ... False  True False]\n"
     ]
    }
   ],
   "source": [
    "\n",
    "run = 'r0140'\n",
    "\n",
    "file_filipe1 = f'/home/patricka/p003046/scratch/data/{run}_proc_radavg.h5'\n",
    "file_filipe2 = f'/home/patricka/p003046/scratch/data/{run}_proc_laser.h5'\n",
    "\n",
    "#Sazi, q, cellID, pump = load_data_filipe(file_filipe1,file_filipe2,qnorm=[5,15])\n",
    "\n",
    "Sazi, q, cellID, pump = load_data_filipe(file_filipe1,file_filipe2,qnorm=[14,16])\n",
    "\n",
    "#nan_sum_loc = np.where(np.nansum(Sazi, axis=1)>0)\n",
    "\n",
    "#Sazi = Sazi[nan_sum_loc,:][0]\n",
    "\n"
   ]
  },
  {
   "cell_type": "markdown",
   "id": "1915addf-839b-4caa-adae-d1a8915173d2",
   "metadata": {},
   "source": [
    "# DUD PULSE FILTER"
   ]
  },
  {
   "cell_type": "code",
   "execution_count": 4,
   "id": "2d4d791d-7bd2-4e89-b17a-e52035a949b7",
   "metadata": {},
   "outputs": [],
   "source": [
    "#nan_sum_loc = np.where(np.nansum(Sazi, axis=1)>0)\n",
    "\n",
    "\n",
    "\n",
    "#Sazi = Sazi[nan_sum_loc,:][0]\n",
    "#cellID = cellID[nan_sum_loc]\n",
    "#pump = pump[nan_sum_loc]\n"
   ]
  },
  {
   "cell_type": "code",
   "execution_count": null,
   "id": "3c2a4d22-c16d-4307-9507-8c7ce3f156a6",
   "metadata": {},
   "outputs": [],
   "source": [
    "\n"
   ]
  },
  {
   "cell_type": "markdown",
   "id": "ede15035-9a5e-45e7-8908-84d27ae75c7a",
   "metadata": {},
   "source": [
    "# FILTER ABSOLUTE x2"
   ]
  },
  {
   "cell_type": "code",
   "execution_count": 5,
   "id": "1199bc6c-d2f8-48d1-9a74-123b2a4dc1dc",
   "metadata": {},
   "outputs": [],
   "source": [
    "\n",
    "def filter_mean(Sazi_in, q, qrange, cellID_in, pump_in,sigma=2, mean_bounds=[4, 7]):   \n",
    "    sum_abs = np.nansum(Sazi_in,1)\n",
    "    \n",
    "    mask_loc = np.logical_and(sum_abs>mean_bounds[0], sum_abs<mean_bounds[1])\n",
    "    mean = np.nanmean(sum_abs[mask_loc])\n",
    "    std = np.std(sum_abs[mask_loc])\n",
    "\n",
    "    \n",
    "    print(std)\n",
    "    \n",
    "    \n",
    "    \n",
    "    #cellID_out = cellID_in[mask_loc]\n",
    "    #pump_out = pump_in[mask_loc]\n",
    "    #Sazi_out = Sazi_in[mask_loc,:]\n",
    "    \n",
    "    fig, axes = plt.subplots(1,1)\n",
    "    plt.hist(sum_abs, bins=500)\n",
    "    axes.axvline(mean, color='red')\n",
    "    axes.axvline(mean-std, color='red')\n",
    "    axes.axvline(mean+std, color='red')\n",
    "\n",
    "    mask_loc = np.logical_and(sum_abs>mean-std*sigma, sum_abs<mean+std*sigma)\n",
    "    \n",
    "    \n",
    "    \n",
    "    \n",
    "    cellID_out = cellID_in[mask_loc]\n",
    "    pump_out = pump_in[mask_loc]\n",
    "    Sazi_out = Sazi_in[mask_loc,:]\n",
    "    \n",
    "\n",
    "    \n",
    "    \n",
    "    \n",
    "    print(f'Starting with {Sazi_in.shape[0]} frames.')\n",
    "    print(f'Filtering {Sazi_in.shape[0] -Sazi_out.shape[0]} frames.')\n",
    "    print(f'{Sazi_out.shape[0]} frames remain.')\n",
    "    \n",
    "    if 1:\n",
    "        sum_abs = np.nansum(Sazi_out,1)\n",
    "        mean = np.nanmean(sum_abs)\n",
    "    \n",
    "        fig, axes = plt.subplots(1,1)\n",
    "        plt.hist(sum_abs, bins=500)\n",
    "        axes.axvline(mean, color='red')\n",
    "    \n",
    "    return Sazi_out, cellID_out, pump_out"
   ]
  },
  {
   "cell_type": "code",
   "execution_count": 6,
   "id": "5f6f5a4c-a0eb-4c22-a2e5-699d910aaa10",
   "metadata": {},
   "outputs": [
    {
     "name": "stdout",
     "output_type": "stream",
     "text": [
      "0.85436213\n",
      "Starting with 100000 frames.\n",
      "Filtering 97502 frames.\n",
      "2498 frames remain.\n"
     ]
    },
    {
     "data": {
      "image/png": "[encoded data removed]",
      "text/plain": [
       "<Figure size 432x288 with 1 Axes>"
      ]
     },
     "metadata": {
      "needs_background": "light"
     },
     "output_type": "display_data"
    },
    {
     "data": {
      "image/png": "[encoded data removed]",
      "text/plain": [
       "<Figure size 432x288 with 1 Axes>"
      ]
     },
     "metadata": {
      "needs_background": "light"
     },
     "output_type": "display_data"
    }
   ],
   "source": [
    "#[0.1, 2.5]\n",
    "#Sazi_mf, cellID_mf, pump_mf = filter_mean(Sazi, q, [0.1, 0.3], cellID, pump, sigma=2)\n",
    "Sazi_mf, cellID_mf, pump_mf = filter_mean(Sazi, q, [0.1, 2.5], cellID, pump, sigma=2)"
   ]
  },
  {
   "cell_type": "code",
   "execution_count": 7,
   "id": "09e4187a-17a6-45e0-8626-15a67f260ac2",
   "metadata": {},
   "outputs": [],
   "source": [
    "#Sazi_mf2, cellID_mf2, pump_mf2 = filter_mean(Sazi_mf, q, [0.1, 0.3], cellID_mf, pump_mf, sigma=2)"
   ]
  },
  {
   "cell_type": "code",
   "execution_count": null,
   "id": "2ca705a2-51bb-4f1a-8237-133569d86a02",
   "metadata": {},
   "outputs": [],
   "source": []
  },
  {
   "cell_type": "markdown",
   "id": "fd50d415-6fbc-4ac0-8cbe-2eba31c21c9a",
   "metadata": {},
   "source": [
    "# CALCULATE DIFFERENCE"
   ]
  },
  {
   "cell_type": "code",
   "execution_count": 8,
   "id": "ca2db645-e9cf-481a-874f-b4527739cacc",
   "metadata": {},
   "outputs": [],
   "source": [
    "def calc_diff(Sazi_in, q, cellID_in, pump_in):\n",
    "    \n",
    "    print(Sazi_in.shape, cellID_in.shape, pump_in.shape)\n",
    "    \n",
    "    \n",
    "    cells = np.unique(cellID_in)\n",
    "    print(cells.shape)\n",
    "    S_on = np.zeros([len(cells), len(q)])\n",
    "    S_off = np.zeros([len(cells), len(q)])\n",
    "    for i in range(cells.shape[0]):\n",
    "        S_on[i,:] = np.nanmean(Sazi_in[np.logical_and(pump_in==1, cellID_in==cells[i]),:],0)    \n",
    "        S_off[i,:] = np.nanmean(Sazi_in[np.logical_and(pump_in==0, cellID_in==cells[i]),:],0)\n",
    "    dS = S_on - S_off\n",
    "    return dS, S_on, S_off"
   ]
  },
  {
   "cell_type": "code",
   "execution_count": 9,
   "id": "0c3a5b20-7ee0-4e65-89af-10204ebc493b",
   "metadata": {},
   "outputs": [
    {
     "name": "stdout",
     "output_type": "stream",
     "text": [
      "(2498, 256) (2498,) (2498,)\n",
      "(25,)\n"
     ]
    }
   ],
   "source": [
    "dS, S_on, S_off = calc_diff(Sazi_mf, q, cellID_mf, pump_mf)"
   ]
  },
  {
   "cell_type": "markdown",
   "id": "4be86a85-e826-443f-9a17-6c7794655df8",
   "metadata": {},
   "source": [
    "# PLOT DIFFERENCE"
   ]
  },
  {
   "cell_type": "code",
   "execution_count": 10,
   "id": "9e9e9c83-e932-4413-b695-5e523fd9960c",
   "metadata": {},
   "outputs": [
    {
     "ename": "TypeError",
     "evalue": "Dimensions of C (25, 256) are incompatible with X (256) and/or Y (175); see help(pcolor)",
     "output_type": "error",
     "traceback": [
      "\u001b[0;31m---------------------------------------------------------------------------\u001b[0m",
      "\u001b[0;31mTypeError\u001b[0m                                 Traceback (most recent call last)",
      "\u001b[0;32m/tmp/ipykernel_258231/1455309074.py\u001b[0m in \u001b[0;36m<module>\u001b[0;34m\u001b[0m\n\u001b[1;32m     13\u001b[0m \u001b[0;34m\u001b[0m\u001b[0m\n\u001b[1;32m     14\u001b[0m \u001b[0mfig\u001b[0m\u001b[0;34m,\u001b[0m \u001b[0max\u001b[0m \u001b[0;34m=\u001b[0m \u001b[0mplt\u001b[0m\u001b[0;34m.\u001b[0m\u001b[0msubplots\u001b[0m\u001b[0;34m(\u001b[0m\u001b[0;36m1\u001b[0m\u001b[0;34m,\u001b[0m\u001b[0;36m1\u001b[0m\u001b[0;34m)\u001b[0m\u001b[0;34m\u001b[0m\u001b[0;34m\u001b[0m\u001b[0m\n\u001b[0;32m---> 15\u001b[0;31m \u001b[0max\u001b[0m\u001b[0;34m.\u001b[0m\u001b[0mpcolor\u001b[0m\u001b[0;34m(\u001b[0m\u001b[0mq\u001b[0m\u001b[0;34m,\u001b[0m \u001b[0mcells\u001b[0m\u001b[0;34m[\u001b[0m\u001b[0;34m:\u001b[0m\u001b[0;36m175\u001b[0m\u001b[0;34m]\u001b[0m\u001b[0;34m,\u001b[0m \u001b[0mdS\u001b[0m\u001b[0;34m[\u001b[0m\u001b[0;34m:\u001b[0m\u001b[0;36m175\u001b[0m\u001b[0;34m,\u001b[0m\u001b[0;34m:\u001b[0m\u001b[0;34m]\u001b[0m\u001b[0;34m,\u001b[0m \u001b[0mcmap\u001b[0m\u001b[0;34m=\u001b[0m\u001b[0;34m'bwr'\u001b[0m\u001b[0;34m,\u001b[0m\u001b[0mvmin\u001b[0m\u001b[0;34m=\u001b[0m\u001b[0mcmin\u001b[0m\u001b[0;34m,\u001b[0m \u001b[0mvmax\u001b[0m\u001b[0;34m=\u001b[0m\u001b[0mcmax\u001b[0m\u001b[0;34m)\u001b[0m\u001b[0;34m\u001b[0m\u001b[0;34m\u001b[0m\u001b[0m\n\u001b[0m\u001b[1;32m     16\u001b[0m \u001b[0;34m\u001b[0m\u001b[0m\n\u001b[1;32m     17\u001b[0m \u001b[0mfig\u001b[0m\u001b[0;34m,\u001b[0m \u001b[0max\u001b[0m \u001b[0;34m=\u001b[0m \u001b[0mplt\u001b[0m\u001b[0;34m.\u001b[0m\u001b[0msubplots\u001b[0m\u001b[0;34m(\u001b[0m\u001b[0;36m1\u001b[0m\u001b[0;34m,\u001b[0m\u001b[0;36m1\u001b[0m\u001b[0;34m)\u001b[0m\u001b[0;34m\u001b[0m\u001b[0;34m\u001b[0m\u001b[0m\n",
      "\u001b[0;32m/software/anaconda3/2021.05/lib/python3.8/site-packages/matplotlib/__init__.py\u001b[0m in \u001b[0;36minner\u001b[0;34m(ax, data, *args, **kwargs)\u001b[0m\n\u001b[1;32m   1359\u001b[0m     \u001b[0;32mdef\u001b[0m \u001b[0minner\u001b[0m\u001b[0;34m(\u001b[0m\u001b[0max\u001b[0m\u001b[0;34m,\u001b[0m \u001b[0;34m*\u001b[0m\u001b[0margs\u001b[0m\u001b[0;34m,\u001b[0m \u001b[0mdata\u001b[0m\u001b[0;34m=\u001b[0m\u001b[0;32mNone\u001b[0m\u001b[0;34m,\u001b[0m \u001b[0;34m**\u001b[0m\u001b[0mkwargs\u001b[0m\u001b[0;34m)\u001b[0m\u001b[0;34m:\u001b[0m\u001b[0;34m\u001b[0m\u001b[0;34m\u001b[0m\u001b[0m\n\u001b[1;32m   1360\u001b[0m         \u001b[0;32mif\u001b[0m \u001b[0mdata\u001b[0m \u001b[0;32mis\u001b[0m \u001b[0;32mNone\u001b[0m\u001b[0;34m:\u001b[0m\u001b[0;34m\u001b[0m\u001b[0;34m\u001b[0m\u001b[0m\n\u001b[0;32m-> 1361\u001b[0;31m             \u001b[0;32mreturn\u001b[0m \u001b[0mfunc\u001b[0m\u001b[0;34m(\u001b[0m\u001b[0max\u001b[0m\u001b[0;34m,\u001b[0m \u001b[0;34m*\u001b[0m\u001b[0mmap\u001b[0m\u001b[0;34m(\u001b[0m\u001b[0msanitize_sequence\u001b[0m\u001b[0;34m,\u001b[0m \u001b[0margs\u001b[0m\u001b[0;34m)\u001b[0m\u001b[0;34m,\u001b[0m \u001b[0;34m**\u001b[0m\u001b[0mkwargs\u001b[0m\u001b[0;34m)\u001b[0m\u001b[0;34m\u001b[0m\u001b[0;34m\u001b[0m\u001b[0m\n\u001b[0m\u001b[1;32m   1362\u001b[0m \u001b[0;34m\u001b[0m\u001b[0m\n\u001b[1;32m   1363\u001b[0m         \u001b[0mbound\u001b[0m \u001b[0;34m=\u001b[0m \u001b[0mnew_sig\u001b[0m\u001b[0;34m.\u001b[0m\u001b[0mbind\u001b[0m\u001b[0;34m(\u001b[0m\u001b[0max\u001b[0m\u001b[0;34m,\u001b[0m \u001b[0;34m*\u001b[0m\u001b[0margs\u001b[0m\u001b[0;34m,\u001b[0m \u001b[0;34m**\u001b[0m\u001b[0mkwargs\u001b[0m\u001b[0;34m)\u001b[0m\u001b[0;34m\u001b[0m\u001b[0;34m\u001b[0m\u001b[0m\n",
      "\u001b[0;32m/software/anaconda3/2021.05/lib/python3.8/site-packages/matplotlib/axes/_axes.py\u001b[0m in \u001b[0;36mpcolor\u001b[0;34m(self, shading, alpha, norm, cmap, vmin, vmax, *args, **kwargs)\u001b[0m\n\u001b[1;32m   5905\u001b[0m             \u001b[0mshading\u001b[0m \u001b[0;34m=\u001b[0m \u001b[0mrcParams\u001b[0m\u001b[0;34m[\u001b[0m\u001b[0;34m'pcolor.shading'\u001b[0m\u001b[0;34m]\u001b[0m\u001b[0;34m\u001b[0m\u001b[0;34m\u001b[0m\u001b[0m\n\u001b[1;32m   5906\u001b[0m         \u001b[0mshading\u001b[0m \u001b[0;34m=\u001b[0m \u001b[0mshading\u001b[0m\u001b[0;34m.\u001b[0m\u001b[0mlower\u001b[0m\u001b[0;34m(\u001b[0m\u001b[0;34m)\u001b[0m\u001b[0;34m\u001b[0m\u001b[0;34m\u001b[0m\u001b[0m\n\u001b[0;32m-> 5907\u001b[0;31m         X, Y, C, shading = self._pcolorargs('pcolor', *args, shading=shading,\n\u001b[0m\u001b[1;32m   5908\u001b[0m                                             kwargs=kwargs)\n\u001b[1;32m   5909\u001b[0m         \u001b[0mNy\u001b[0m\u001b[0;34m,\u001b[0m \u001b[0mNx\u001b[0m \u001b[0;34m=\u001b[0m \u001b[0mX\u001b[0m\u001b[0;34m.\u001b[0m\u001b[0mshape\u001b[0m\u001b[0;34m\u001b[0m\u001b[0;34m\u001b[0m\u001b[0m\n",
      "\u001b[0;32m/software/anaconda3/2021.05/lib/python3.8/site-packages/matplotlib/axes/_axes.py\u001b[0m in \u001b[0;36m_pcolorargs\u001b[0;34m(self, funcname, shading, *args, **kwargs)\u001b[0m\n\u001b[1;32m   5695\u001b[0m         \u001b[0;32mif\u001b[0m \u001b[0mshading\u001b[0m \u001b[0;34m==\u001b[0m \u001b[0;34m'flat'\u001b[0m\u001b[0;34m:\u001b[0m\u001b[0;34m\u001b[0m\u001b[0;34m\u001b[0m\u001b[0m\n\u001b[1;32m   5696\u001b[0m             \u001b[0;32mif\u001b[0m \u001b[0;32mnot\u001b[0m \u001b[0;34m(\u001b[0m\u001b[0mncols\u001b[0m \u001b[0;32min\u001b[0m \u001b[0;34m(\u001b[0m\u001b[0mNx\u001b[0m\u001b[0;34m,\u001b[0m \u001b[0mNx\u001b[0m \u001b[0;34m-\u001b[0m \u001b[0;36m1\u001b[0m\u001b[0;34m)\u001b[0m \u001b[0;32mand\u001b[0m \u001b[0mnrows\u001b[0m \u001b[0;32min\u001b[0m \u001b[0;34m(\u001b[0m\u001b[0mNy\u001b[0m\u001b[0;34m,\u001b[0m \u001b[0mNy\u001b[0m \u001b[0;34m-\u001b[0m \u001b[0;36m1\u001b[0m\u001b[0;34m)\u001b[0m\u001b[0;34m)\u001b[0m\u001b[0;34m:\u001b[0m\u001b[0;34m\u001b[0m\u001b[0;34m\u001b[0m\u001b[0m\n\u001b[0;32m-> 5697\u001b[0;31m                 raise TypeError('Dimensions of C %s are incompatible with'\n\u001b[0m\u001b[1;32m   5698\u001b[0m                                 ' X (%d) and/or Y (%d); see help(%s)' % (\n\u001b[1;32m   5699\u001b[0m                                     C.shape, Nx, Ny, funcname))\n",
      "\u001b[0;31mTypeError\u001b[0m: Dimensions of C (25, 256) are incompatible with X (256) and/or Y (175); see help(pcolor)"
     ]
    },
    {
     "data": {
      "image/png": "[encoded data removed]",
      "text/plain": [
       "<Figure size 432x288 with 1 Axes>"
      ]
     },
     "metadata": {
      "needs_background": "light"
     },
     "output_type": "display_data"
    },
    {
     "data": {
      "image/png": "[encoded data removed]",
      "text/plain": [
       "<Figure size 432x288 with 1 Axes>"
      ]
     },
     "metadata": {
      "needs_background": "light"
     },
     "output_type": "display_data"
    }
   ],
   "source": [
    "\n",
    "cells = np.unique(cellID)\n",
    "colors = pl.cm.jet(np.linspace(0,1,dS.shape[0]))\n",
    "#dS_filt = dS[mask_std,:]\n",
    "\n",
    "fig, ax = plt.subplots(1,1)\n",
    "for i in range(dS.shape[0]-30):\n",
    "    ax.plot(q, dS[i+3,:].T, color = colors[i])\n",
    "    ax.set_ylim([-.0005,.0005])\n",
    "    \n",
    "\n",
    "cmin = -0.0001\n",
    "cmax = 0.0001\n",
    "    \n",
    "fig, ax = plt.subplots(1,1)\n",
    "ax.pcolor(q, cells[:175], dS[:175,:], cmap='bwr',vmin=cmin, vmax=cmax)\n",
    "\n",
    "fig, ax = plt.subplots(1,1)\n",
    "ax.plot(q, np.nanmean(dS,0))\n",
    "\n"
   ]
  },
  {
   "cell_type": "code",
   "execution_count": null,
   "id": "9c1f0ee9-f341-482d-a593-6d795b53a433",
   "metadata": {},
   "outputs": [],
   "source": []
  },
  {
   "cell_type": "code",
   "execution_count": null,
   "id": "c3d072ad-0994-4195-ad3f-0b984d4d14d6",
   "metadata": {},
   "outputs": [],
   "source": []
  },
  {
   "cell_type": "code",
   "execution_count": null,
   "id": "f60f34a1-5e78-4ca3-a4ce-8fff22093aff",
   "metadata": {},
   "outputs": [],
   "source": []
  }
 ],
 "metadata": {
  "kernelspec": {
   "display_name": "Python 3 (ipykernel)",
   "language": "python",
   "name": "python3"
  },
  "language_info": {
   "codemirror_mode": {
    "name": "ipython",
    "version": 3
   },
   "file_extension": ".py",
   "mimetype": "text/x-python",
   "name": "python",
   "nbconvert_exporter": "python",
   "pygments_lexer": "ipython3",
   "version": "3.8.12"
  }
 },
 "nbformat": 4,
 "nbformat_minor": 5
}
