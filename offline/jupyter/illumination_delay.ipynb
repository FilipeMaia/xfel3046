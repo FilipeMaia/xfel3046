{
 "cells": [
  {
   "cell_type": "code",
   "execution_count": null,
   "id": "ff2fa2b6-7e5f-47cb-abc8-4dbb9a364b7d",
   "metadata": {},
   "outputs": [],
   "source": [
    "from extra_data import RunDirectory \n",
    "import h5py \n",
    "import numpy as np \n",
    "import matplotlib.pyplot as plt "
   ]
  },
  {
   "cell_type": "code",
   "execution_count": null,
   "id": "962f3e8c-7a42-42d9-af85-572bc4d4693d",
   "metadata": {},
   "outputs": [],
   "source": [
    "r = 188\n",
    "run = RunDirectory(path='/pnfs/xfel.eu/exfel/archive/XFEL/raw/SPB/202202/p003046/r%04d' % (r))"
   ]
  },
  {
   "cell_type": "code",
   "execution_count": null,
   "id": "8ad35096-26ec-4450-88ab-fce47d6096c8",
   "metadata": {},
   "outputs": [],
   "source": [
    "run.info()"
   ]
  },
  {
   "cell_type": "code",
   "execution_count": null,
   "id": "fa465fdd-6fe3-40a1-b3bd-f1d35768b9a5",
   "metadata": {},
   "outputs": [],
   "source": [
    "sel = run.select(['SPB_LAS_NS/DG/DG1', '*',\n",
    "                  'SPB_LAS_NS/DG/DG2', '*',\n",
    "                  'SPB_LAS_SYS/ADC/ADQ1', '*',\n",
    "                  'SPB_LAS_SYS/ADC/UTC1-1', '*',\n",
    "                  'SPB_RR_SYS/ADC/UTC1-2:channel_0.output'])"
   ]
  },
  {
   "cell_type": "code",
   "execution_count": null,
   "id": "8758fe92-329a-4efd-89a0-535c55a67107",
   "metadata": {},
   "outputs": [],
   "source": [
    "sel.keys_for_source('SPB_RR_SYS/ADC/UTC1-2:channel_0.output')"
   ]
  },
  {
   "cell_type": "code",
   "execution_count": null,
   "id": "a79853d7-9d1b-40c8-94c5-51e5579bdc87",
   "metadata": {},
   "outputs": [],
   "source": [
    "T0_delay = sel['SPB_RR_SYS/ADC/UTC1-2:channel_0.output','burstDelay.value'].xarray()"
   ]
  },
  {
   "cell_type": "code",
   "execution_count": null,
   "id": "1e15768c-39e4-45f8-9767-6cd7cee7fc89",
   "metadata": {},
   "outputs": [],
   "source": [
    "volt = run['SPB_RR_SYS/ADC/UTC1-1:channel_0.output']['data.rawDataVolt'].xarray()"
   ]
  },
  {
   "cell_type": "code",
   "execution_count": null,
   "id": "d9bb2cf7-6e91-480d-aa72-f0e8d431bb24",
   "metadata": {},
   "outputs": [],
   "source": [
    "volt.shape"
   ]
  },
  {
   "cell_type": "code",
   "execution_count": null,
   "id": "ac025330-49fe-4bd9-8c65-84c0591f60f9",
   "metadata": {},
   "outputs": [],
   "source": [
    "plt.plot(np.argmax(volt.data,axis=1))"
   ]
  },
  {
   "cell_type": "code",
   "execution_count": null,
   "id": "24c5c02d-1a48-49c4-a859-55d580bcb529",
   "metadata": {},
   "outputs": [],
   "source": [
    "plt.plot(volt[0])"
   ]
  },
  {
   "cell_type": "code",
   "execution_count": null,
   "id": "4ebc9129-6f4b-4e6a-b8fa-a07011d01e8b",
   "metadata": {},
   "outputs": [],
   "source": [
    "np.argmax(volt.data[0])"
   ]
  },
  {
   "cell_type": "code",
   "execution_count": null,
   "id": "2ea455e3-0724-415a-b0a0-48ea6c4258ef",
   "metadata": {},
   "outputs": [],
   "source": [
    "T0_delay[0]"
   ]
  },
  {
   "cell_type": "code",
   "execution_count": null,
   "id": "a2004993-75b9-41c7-954f-1a2332b194b5",
   "metadata": {},
   "outputs": [],
   "source": []
  }
 ],
 "metadata": {
  "kernelspec": {
   "display_name": "xfel (current)",
   "language": "python",
   "name": "xfel-current"
  },
  "language_info": {
   "codemirror_mode": {
    "name": "ipython",
    "version": 3
   },
   "file_extension": ".py",
   "mimetype": "text/x-python",
   "name": "python",
   "nbconvert_exporter": "python",
   "pygments_lexer": "ipython3",
   "version": "3.9.16"
  }
 },
 "nbformat": 4,
 "nbformat_minor": 5
}
