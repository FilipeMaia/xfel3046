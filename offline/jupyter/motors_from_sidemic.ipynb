{
 "cells": [
  {
   "cell_type": "code",
   "execution_count": null,
   "id": "50db67c0-a39e-4af8-81c6-7331d596a9d8",
   "metadata": {},
   "outputs": [],
   "source": [
    "from extra_data import RunDirectory \n",
    "import h5py \n",
    "import numpy as np \n",
    "%matplotlib widget\n",
    "import matplotlib.pyplot as plt "
   ]
  },
  {
   "cell_type": "code",
   "execution_count": null,
   "id": "d6cbfcba-a650-411c-a364-1ec4656b3eb5",
   "metadata": {},
   "outputs": [],
   "source": [
    "import xarray\n",
    "\n",
    "def read_run_sync_trains(r, verbose=True):\n",
    "    #clear_output(wait=False) \n",
    "    #sys.stderr.write(f'Processing run {r}...\\n') \n",
    "    run = RunDirectory(path='/pnfs/xfel.eu/exfel/archive/XFEL/raw/SPB/202202/p003046/r%04d' % (r))  \n",
    "    \n",
    "    # The require_all=True ensures we only get trains which exist for all sources\n",
    "    sel = run.select([\n",
    "        ('SPB_XTD9_XGM/XGM/DOOCS:output', 'data.intensitySa1TD'),\n",
    "        ('SA1_XTD2_XGM/XGM/DOOCS:output', 'data.intensitySa1TD'),\n",
    "        ('SPB_IRU_MOTORS/MDL/DATA_SELECT', '*'),\n",
    "        ('SPB_EXP_ZYLA/CAM/1:daqOutput', 'data.image.pixels'),\n",
    "    ], require_all=True)\n",
    "    if(verbose):\n",
    "        sel.info()\n",
    "    \n",
    "    intensity_sase1_extra = sel['SPB_XTD9_XGM/XGM/DOOCS:output', 'data.intensitySa1TD']\n",
    "    intensity_preattenuator_sase1_extra = sel['SA1_XTD2_XGM/XGM/DOOCS:output', 'data.intensitySa1TD']    \n",
    "    motors_x_extra = sel['SPB_IRU_MOTORS/MDL/DATA_SELECT', 'SPB_IRU_INJMOV_MOTOR_X.actualPosition.value']\n",
    "    motors_y_extra = sel['SPB_IRU_MOTORS/MDL/DATA_SELECT', 'SPB_IRU_INJMOV_MOTOR_Y.actualPosition.value']\n",
    "    motors_z_extra = sel['SPB_IRU_MOTORS/MDL/DATA_SELECT', 'SPB_IRU_INJMOV_MOTOR_Z.actualPosition.value']\n",
    "\n",
    "    # Put the data in xarray\n",
    "    motor_x = motors_x_extra.xarray()\n",
    "    motor_y = motors_y_extra.xarray()\n",
    "    motor_z = motors_z_extra.xarray()\n",
    "    xgm = intensity_sase1_extra.xarray()\n",
    "    xgm2 = intensity_preattenuator_sase1_extra.xarray()\n",
    "    \n",
    "    directory = '/gpfs/exfel/u/scratch/SPB/202202/p003046/data' \n",
    "    agipd_frames_per_train = 202 # number of agipd frames per train\n",
    "    with h5py.File(directory+'/r%04d_proc_radavg.h5' % (r)) as rad: \n",
    "        radavg = rad['entry_1']['radialavg'][:]\n",
    "        trainIds = rad['entry_1']['trainId'][:]\n",
    "        q = rad['entry_1']['q'][:]\n",
    "    \n",
    "    # Reshape the arrays from the radavg file to make them by train\n",
    "    radavg = radavg.reshape((-1,agipd_frames_per_train,radavg.shape[1]))\n",
    "    trainIds = trainIds.reshape((-1,agipd_frames_per_train))\n",
    "    # Ensure all the trains are the same length\n",
    "    if (trainIds == trainIds[:,:1]).all() != True:\n",
    "        raise ValueError        \n",
    "    if(verbose):\n",
    "        print(\"Reshaping of radavg successful:\", (trainIds == trainIds[:,:1]).all())\n",
    "    trainIds = trainIds[:,0]\n",
    "    \n",
    "    # Put radavg in an xarray\n",
    "    radavg = xarray.DataArray(data=radavg, dims=('trainId', 'pulseNr', 'q'), \n",
    "                              coords={'trainId': trainIds, 'pulseNr': np.arange(agipd_frames_per_train), 'q': q})\n",
    "\n",
    "    # Find trains which are common between radavg and the rest\n",
    "    common_trains = np.intersect1d(intensity_sase1_extra.train_id_coordinates(), trainIds)\n",
    "    if verbose:\n",
    "        print(\"Found %d common train IDs between radavg and the rest\" % len(common_trains))\n",
    "\n",
    "    # Find the indices of the common trainIds and keep only those\n",
    "    common_train_idx = np.searchsorted(intensity_sase1_extra.train_id_coordinates(),common_trains)\n",
    "    motor_x = motor_x[common_train_idx]\n",
    "    motor_y = motor_y[common_train_idx]\n",
    "    xgm = xgm[common_train_idx]\n",
    "\n",
    "    # Find the indices of the common trainIds for radavg    \n",
    "    common_train_idx = np.searchsorted(radavg.coords['trainId'].data,common_trains)\n",
    "    radavg = radavg[common_train_idx]\n",
    "    \n",
    "    train_ids_eq = (motor_x.coords['trainId'].data == radavg.coords['trainId'].data)\n",
    "    if verbose:\n",
    "        print(\"Train IDs all match:\", train_ids_eq.all())\n",
    "    \n",
    "    return xgm, motor_x, motor_y, motor_z, radavg, xgm2"
   ]
  },
  {
   "cell_type": "code",
   "execution_count": null,
   "id": "0bfe106e-d0ef-486e-acd9-7018d0484420",
   "metadata": {},
   "outputs": [],
   "source": [
    "def extract_gifs(r, verbose=True):\n",
    "    run = RunDirectory(path=f'/gpfs/exfel/exp/SPB/202202/p003046/raw/r0{r}')  \n",
    "    \n",
    "    # The require_all=True ensures we only get trains which exist for all sources\n",
    "    sel = run.select([\n",
    "        ('SPB_XTD9_XGM/XGM/DOOCS:output', 'data.intensitySa1TD'),\n",
    "        ('SPB_IRU_MOTORS/MDL/DATA_SELECT', '*'),\n",
    "        ('SPB_EXP_ZYLA/CAM/1:daqOutput', 'data.image.pixels'),\n",
    "    ], require_all=True)\n",
    "    if(verbose):\n",
    "        sel.info()   \n",
    "    sidemic_extra = sel['SPB_EXP_ZYLA/CAM/1:daqOutput', 'data.image.pixels']\n",
    "    trains = sidemic_extra.train_id_coordinates()\n",
    "    sidemic = sidemic_extra.xarray()\n",
    "    return sidemic"
   ]
  },
  {
   "cell_type": "code",
   "execution_count": null,
   "id": "1fa838c9-1cd4-4c93-bdfb-88fef96690e2",
   "metadata": {},
   "outputs": [],
   "source": [
    "run = 193\n",
    "xgm, motor_x, motor_y, motor_z, radavg, xgm2 = read_run_sync_trains(run, verbose=False)\n",
    "sidemic = extract_gifs(run)\n"
   ]
  },
  {
   "cell_type": "code",
   "execution_count": null,
   "id": "f1554bb6-36d8-4283-b079-c2ee53425ed3",
   "metadata": {},
   "outputs": [],
   "source": [
    "rundata = RunDirectory(path=f'/gpfs/exfel/exp/SPB/202202/p003046/raw/r0{run}')"
   ]
  },
  {
   "cell_type": "code",
   "execution_count": null,
   "id": "1fba7c71-fb97-4730-8fa2-bf0e33097414",
   "metadata": {},
   "outputs": [],
   "source": [
    "rundata['SPB_IRU_MOTORS/MDL/DATA_SELECT'].keys()"
   ]
  },
  {
   "cell_type": "code",
   "execution_count": null,
   "id": "1263cc08-c843-4c1a-b902-153d7c9102a7",
   "metadata": {},
   "outputs": [],
   "source": [
    "plt.figure()\n",
    "plt.plot(rundata['SPB_IRU_MOTORS/MDL/DATA_SELECT']['SPB_IRU_INJMOV_MOTOR_Z.actualPosition.value'].xarray())\n",
    "plt.show()"
   ]
  },
  {
   "cell_type": "code",
   "execution_count": null,
   "id": "b358b295-a73c-4f1f-a40c-08ea097dea87",
   "metadata": {},
   "outputs": [],
   "source": [
    "import skimage.registration"
   ]
  },
  {
   "cell_type": "code",
   "execution_count": null,
   "id": "d5a5acfe-41d0-4be5-acdd-37a9712e1bfa",
   "metadata": {},
   "outputs": [],
   "source": [
    "run_shift = np.zeros((sidemic.shape[0],2))\n",
    "for i in np.arange(400,sidemic.shape[0],20):\n",
    "    shift, error, phasediff = skimage.registration.phase_cross_correlation(sidemic[i-20], sidemic[i])\n",
    "    run_shift[i] = shift"
   ]
  },
  {
   "cell_type": "code",
   "execution_count": null,
   "id": "9d5975e4-5bc7-4067-80dd-ff3481127015",
   "metadata": {},
   "outputs": [],
   "source": [
    "plt.figure()\n",
    "plt.plot(np.cumsum(run_shift[:,0])*0.0013, label='vertical shift from sidemic')\n",
    "plt.plot(np.cumsum(-run_shift[:,1])*0.0013, label='horizontal shift from sidemic')\n",
    "plt.plot(motor_x-motor_x[0], label='motor x')\n",
    "plt.plot(motor_y-motor_y[0], label='motor y')\n",
    "plt.plot(motor_z-motor_z[0], label='motor z')\n",
    "plt.xlabel('Train number')\n",
    "plt.ylabel('Displacement (mm)')\n",
    "plt.title('Injector movement - run 193')\n",
    "plt.legend()\n",
    "plt.show()"
   ]
  },
  {
   "cell_type": "code",
   "execution_count": null,
   "id": "f47f5acd-116e-4808-aca1-a4bd40a67691",
   "metadata": {},
   "outputs": [],
   "source": [
    "plt.imshow(sidemic[0])"
   ]
  },
  {
   "cell_type": "code",
   "execution_count": null,
   "id": "065fb3ff-6dac-4ff8-9e39-662811fa8e46",
   "metadata": {},
   "outputs": [],
   "source": [
    "# The same trick cannot be used for the motor_x as the microscopy seems to move with the motor"
   ]
  }
 ],
 "metadata": {
  "kernelspec": {
   "display_name": "Python 3 (ipykernel)",
   "language": "python",
   "name": "python3"
  },
  "language_info": {
   "codemirror_mode": {
    "name": "ipython",
    "version": 3
   },
   "file_extension": ".py",
   "mimetype": "text/x-python",
   "name": "python",
   "nbconvert_exporter": "python",
   "pygments_lexer": "ipython3",
   "version": "3.8.12"
  }
 },
 "nbformat": 4,
 "nbformat_minor": 5
}
