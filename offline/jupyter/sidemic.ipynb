{
 "cells": [
  {
   "cell_type": "code",
   "execution_count": null,
   "id": "3af18c6d-def1-492c-b33c-d1a3b7fbf671",
   "metadata": {},
   "outputs": [],
   "source": [
    "from extra_data import RunDirectory \n",
    "import h5py \n",
    "import numpy as np \n",
    "%matplotlib widget\n",
    "import matplotlib.pyplot as plt "
   ]
  },
  {
   "cell_type": "code",
   "execution_count": null,
   "id": "b6e8356c-80e6-4c0d-ad89-5753a659a87d",
   "metadata": {},
   "outputs": [],
   "source": [
    "def extract_gifs(r, verbose=True):\n",
    "    run = RunDirectory(path=f'/gpfs/exfel/exp/SPB/202202/p003046/raw/r0{r}')  \n",
    "    \n",
    "    # The require_all=True ensures we only get trains which exist for all sources\n",
    "    sel = run.select([\n",
    "        ('SPB_XTD9_XGM/XGM/DOOCS:output', 'data.intensitySa1TD'),\n",
    "        ('SPB_IRU_MOTORS/MDL/DATA_SELECT', '*'),\n",
    "        ('SPB_EXP_ZYLA/CAM/1:daqOutput', 'data.image.pixels'),\n",
    "    ], require_all=True)\n",
    "    if(verbose):\n",
    "        sel.info()   \n",
    "    sidemic_extra = sel['SPB_EXP_ZYLA/CAM/1:daqOutput', 'data.image.pixels']\n",
    "    trains = sidemic_extra.train_id_coordinates()\n",
    "    sidemic = sidemic_extra.xarray()\n",
    "    return sidemic"
   ]
  },
  {
   "cell_type": "code",
   "execution_count": null,
   "id": "d6f80317-c9c6-4161-ba3e-4029224413f4",
   "metadata": {},
   "outputs": [],
   "source": [
    "import imageio\n",
    "def write_gifs(run):\n",
    "    sidemic = extract_gifs(run)\n",
    "    # convert to 8bit and select only the area around the liquid sheet\n",
    "    sidemic_8bit = np.array(np.minimum(255,np.maximum(0,(255*(sidemic.data[:,200:1400,200:600]-np.percentile(sidemic[0], 1))/(np.percentile(sidemic[0], 99)-np.percentile(sidemic[0], 1))))).astype('uint8'))\n",
    "    step = 5\n",
    "    with imageio.get_writer('sidemic_%d.gif' % (run), mode='I', duration=0.1) as writer:\n",
    "        for i in np.arange(stop=sidemic.shape[0],step=step):\n",
    "            writer.append_data(sidemic_8bit[i])\n",
    "        writer.close()"
   ]
  },
  {
   "cell_type": "code",
   "execution_count": null,
   "id": "579a6075-17af-459d-919f-dbbd32dc800f",
   "metadata": {},
   "outputs": [],
   "source": [
    "write_gifs(195)"
   ]
  },
  {
   "cell_type": "code",
   "execution_count": null,
   "id": "b9d3040d-1b05-4534-be7b-05597af3e833",
   "metadata": {},
   "outputs": [],
   "source": [
    "for i in np.arange(184,198):\n",
    "    write_gifs(i)"
   ]
  }
 ],
 "metadata": {
  "kernelspec": {
   "display_name": "xfel (current)",
   "language": "python",
   "name": "xfel-current"
  },
  "language_info": {
   "codemirror_mode": {
    "name": "ipython",
    "version": 3
   },
   "file_extension": ".py",
   "mimetype": "text/x-python",
   "name": "python",
   "nbconvert_exporter": "python",
   "pygments_lexer": "ipython3",
   "version": "3.9.16"
  }
 },
 "nbformat": 4,
 "nbformat_minor": 5
}
