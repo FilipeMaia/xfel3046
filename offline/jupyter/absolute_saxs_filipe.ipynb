{
 "cells": [
  {
   "cell_type": "code",
   "execution_count": 1,
   "id": "3b20c107-0845-49fe-8cee-5b7beb2864fd",
   "metadata": {},
   "outputs": [],
   "source": [
    "from extra_data import RunDirectory \n",
    "import h5py \n",
    "import numpy as np \n",
    "%matplotlib widget\n",
    "import matplotlib.pyplot as plt \n",
    "PREFIX='/gpfs/exfel/exp/SPB/202202/p003046'\n"
   ]
  },
  {
   "cell_type": "code",
   "execution_count": 2,
   "id": "297fcbe7-de80-4ac0-b9f7-aaf1cc66e3bd",
   "metadata": {},
   "outputs": [],
   "source": [
    "import numpy as np\n",
    "import matplotlib.pyplot as plt\n",
    "import xarray\n",
    "import scipy.optimize\n",
    "from scipy import signal\n",
    "import seaborn as sns\n",
    "\n",
    "# Apply the default theme\n",
    "sns.set()"
   ]
  },
  {
   "cell_type": "code",
   "execution_count": 3,
   "id": "8083a0fa-4304-43be-8c31-216ac3b84281",
   "metadata": {},
   "outputs": [],
   "source": [
    "import xarray\n",
    "\n",
    "def read_run_sync_trains(r, verbose=True):\n",
    "    #clear_output(wait=False) \n",
    "    #sys.stderr.write(f'Processing run {r}...\\n') \n",
    "    run = RunDirectory(path='/pnfs/xfel.eu/exfel/archive/XFEL/raw/SPB/202202/p003046/r%04d' % (r))  \n",
    "    \n",
    "    # The require_all=True ensures we only get trains which exist for all sources\n",
    "    sel = run.select([\n",
    "        ('SPB_XTD9_XGM/XGM/DOOCS:output', 'data.intensitySa1TD'),\n",
    "        ('SA1_XTD2_XGM/XGM/DOOCS:output', 'data.intensitySa1TD'),\n",
    "        ('SPB_IRU_MOTORS/MDL/DATA_SELECT', '*'),\n",
    "        ('SPB_EXP_ZYLA/CAM/1:daqOutput', 'data.image.pixels'),\n",
    "    ], require_all=True)\n",
    "    if(verbose):\n",
    "        sel.info()\n",
    "    \n",
    "    intensity_sase1_extra = sel['SPB_XTD9_XGM/XGM/DOOCS:output', 'data.intensitySa1TD']\n",
    "    intensity_preattenuator_sase1_extra = sel['SA1_XTD2_XGM/XGM/DOOCS:output', 'data.intensitySa1TD']    \n",
    "    motors_x_extra = sel['SPB_IRU_MOTORS/MDL/DATA_SELECT', 'SPB_IRU_INJMOV_MOTOR_X.actualPosition.value']\n",
    "    motors_y_extra = sel['SPB_IRU_MOTORS/MDL/DATA_SELECT', 'SPB_IRU_INJMOV_MOTOR_Y.actualPosition.value']\n",
    "    sidemic_extra = sel['SPB_EXP_ZYLA/CAM/1:daqOutput', 'data.image.pixels']\n",
    "\n",
    "    # Put the data in xarray\n",
    "    motor_x = motors_x_extra.xarray()\n",
    "    motor_y = motors_y_extra.xarray()\n",
    "    xgm = intensity_sase1_extra.xarray()\n",
    "    xgm2 = intensity_preattenuator_sase1_extra.xarray()\n",
    "    sidemic = sidemic_extra.xarray()\n",
    "    \n",
    "    directory = '/gpfs/exfel/u/scratch/SPB/202202/p003046/data' \n",
    "    agipd_frames_per_train = 202 # number of agipd frames per train\n",
    "    with h5py.File(directory+'/r%04d_proc_radavg.h5' % (r)) as rad: \n",
    "        radavg = rad['entry_1']['radialavg'][:]\n",
    "        trainIds = rad['entry_1']['trainId'][:]\n",
    "        q = rad['entry_1']['q'][:]\n",
    "    \n",
    "    # Reshape the arrays from the radavg file to make them by train\n",
    "    radavg = radavg.reshape((-1,agipd_frames_per_train,radavg.shape[1]))\n",
    "    trainIds = trainIds.reshape((-1,agipd_frames_per_train))\n",
    "    # Ensure all the trains are the same length\n",
    "    if (trainIds == trainIds[:,:1]).all() != True:\n",
    "        raise ValueError        \n",
    "    if(verbose):\n",
    "        print(\"Reshaping of radavg successful:\", (trainIds == trainIds[:,:1]).all())\n",
    "    trainIds = trainIds[:,0]\n",
    "    \n",
    "    # Put radavg in an xarray\n",
    "    radavg = xarray.DataArray(data=radavg, dims=('trainId', 'pulseNr', 'q'), \n",
    "                              coords={'trainId': trainIds, 'pulseNr': np.arange(agipd_frames_per_train), 'q': q})\n",
    "\n",
    "    # Find trains which are common between radavg and the rest\n",
    "    common_trains = np.intersect1d(intensity_sase1_extra.train_id_coordinates(), trainIds)\n",
    "    if verbose:\n",
    "        print(\"Found %d common train IDs between radavg and the rest\" % len(common_trains))\n",
    "\n",
    "    # Find the indices of the common trainIds and keep only those\n",
    "    common_train_idx = np.searchsorted(intensity_sase1_extra.train_id_coordinates(),common_trains)\n",
    "    motor_x = motor_x[common_train_idx]\n",
    "    motor_y = motor_y[common_train_idx]\n",
    "    xgm = xgm[common_train_idx]\n",
    "\n",
    "    # Find the indices of the common trainIds for radavg    \n",
    "    common_train_idx = np.searchsorted(radavg.coords['trainId'].data,common_trains)\n",
    "    radavg = radavg[common_train_idx]\n",
    "    \n",
    "    train_ids_eq = (motor_x.coords['trainId'].data == radavg.coords['trainId'].data)\n",
    "    if verbose:\n",
    "        print(\"Train IDs all match:\", train_ids_eq.all())\n",
    "    \n",
    "    return xgm, motor_x, motor_y, radavg, xgm2, sidemic"
   ]
  },
  {
   "cell_type": "code",
   "execution_count": 4,
   "id": "7d0a06b3-5bf8-4119-ad13-06341a43488e",
   "metadata": {},
   "outputs": [],
   "source": [
    "def sync_pulses(xgm, radavg, xgm2):\n",
    "    # Find out how many X-ray pulses per train\n",
    "\n",
    "    npulses = np.sum(np.nanmean(xgm,axis=0) > 1.0)\n",
    "    # For certain runs we actually receive more than 176 pulses, but the agipd will only record 176   \n",
    "    npulses = min(npulses,176)\n",
    "    agipd_frames_per_pulse = 176//npulses\n",
    "    return xgm[:,:npulses], radavg[:,1:npulses*agipd_frames_per_pulse+1:agipd_frames_per_pulse,:], xgm2[:,:npulses]"
   ]
  },
  {
   "cell_type": "code",
   "execution_count": 5,
   "id": "7654d8ee-258c-4931-a497-71dbe46ead43",
   "metadata": {},
   "outputs": [],
   "source": [
    "def integrate_q_range(radavg, q_min = 0.73, q_max = 13, verbose=True):\n",
    "    # q_min and q_max in 1/nm\n",
    "\n",
    "    q = radavg.coords['q'].data\n",
    "    q_min_idx = np.argmax(q > q_min)\n",
    "    q_max_idx = np.argmax(q > q_max)\n",
    "    if(verbose):\n",
    "        print('Integrating between %g-%g 1/nm' % (q_min,q_max))   \n",
    "    I = xarray.DataArray(data=np.nansum(radavg[:,:,q_min_idx:q_max_idx],axis=2), dims=('trainId', 'pulseNr'), coords={'trainId': radavg.coords['trainId'], 'pulseNr': radavg.coords['pulseNr']})\n",
    "    return I"
   ]
  },
  {
   "cell_type": "code",
   "execution_count": 6,
   "id": "5629c4d7-21bd-4388-898f-1731ef702e09",
   "metadata": {},
   "outputs": [
    {
     "name": "stderr",
     "output_type": "stream",
     "text": [
      "WARNING:silx.opencl.common:Unable to import pyOpenCl. Please install it from: https://pypi.org/project/pyopencl\n"
     ]
    }
   ],
   "source": [
    "import pyFAI.azimuthalIntegrator\n",
    "import extra_geom\n",
    "\n",
    "def load_geom( run_n):\n",
    "        geom = extra_geom.AGIPD_1MGeometry.from_crystfel_geom(PREFIX+'/scratch/geom/agipd_september_2022_v03.geom')\n",
    "        pixel_size = 200e-6\n",
    "        from extra_data import open_run\n",
    "        run = open_run(proposal=3046,run=run_n)\n",
    "        detector_distance = (run[\"SPB_IRU_AGIPD1M/MOTOR/Z_STEPPER\"]['actualPosition'].ndarray()[0]+121)*1e-3\n",
    "\n",
    "        from extra_data import open_run\n",
    "        run = open_run(proposal=3046,run=run_n)\n",
    "        energy = run['SPB_XTD2_UND/DOOCS/ENERGY']['actualPosition'].ndarray()[0] # in keV\n",
    "        wavelength = 1.23984193e-9/energy # in m\n",
    "                      \n",
    "            \n",
    "            \n",
    "        #wavelength = 0.15498e-9 #8 keV\n",
    "        assem, centre = geom.position_modules_fast(np.empty(geom.expected_data_shape))\n",
    "\n",
    "        ai = pyFAI.azimuthalIntegrator.AzimuthalIntegrator(dist = detector_distance,\n",
    "                                                           poni1 = centre[0] * pixel_size,\n",
    "                                                           poni2 = centre[1] * pixel_size,\n",
    "                                                           pixel1 = pixel_size,\n",
    "                                                           pixel2 = pixel_size,\n",
    "                                                           rot1 = 0, rot2=0, rot3=0,\n",
    "                                                           wavelength = wavelength)\n",
    "        \n",
    "        solid_angle = ai.solidAngleArray(shape=assem.shape)\n",
    "        polarization = ai.polarization(shape=assem.shape,factor=1)\n",
    "        corrections = np.ones_like(assem)\n",
    "        corrections /= solid_angle\n",
    "        corrections /= polarization\n",
    "        q = ai.qArray(shape=assem.shape)\n",
    "        npts = 256\n",
    "        intrad = np.floor(q/(np.max(q)+1e-7)*256).astype(int)\n",
    "        max_rad = npts\n",
    "        geom = geom\n",
    "        mask_file = PREFIX+'/scratch/geom/newer_mask.h5'\n",
    "        with h5py.File(mask_file,'r') as f:\n",
    "            good_pixels = (np.asarray(f['combined_mask']))\n",
    "            good_pixels, centre = geom.position_modules_fast(good_pixels)\n",
    "        ai = ai\n",
    "        return solid_angle"
   ]
  },
  {
   "cell_type": "code",
   "execution_count": 7,
   "id": "c30eeaed-2b1a-47b5-8fc1-8602b592175d",
   "metadata": {},
   "outputs": [],
   "source": [
    "def extract_gifs(r, verbose=True):\n",
    "    run = RunDirectory(path=f'/gpfs/exfel/exp/SPB/202202/p003046/raw/r0{r}')  \n",
    "    \n",
    "    # The require_all=True ensures we only get trains which exist for all sources\n",
    "    sel = run.select([\n",
    "        ('SPB_XTD9_XGM/XGM/DOOCS:output', 'data.intensitySa1TD'),\n",
    "        ('SPB_IRU_MOTORS/MDL/DATA_SELECT', '*'),\n",
    "        ('SPB_EXP_ZYLA/CAM/1:daqOutput', 'data.image.pixels'),\n",
    "    ], require_all=True)\n",
    "    if(verbose):\n",
    "        sel.info()   \n",
    "    sidemic_extra = sel['SPB_EXP_ZYLA/CAM/1:daqOutput', 'data.image.pixels']\n",
    "    trains = sidemic_extra.train_id_coordinates()\n",
    "    sidemic = sidemic_extra.xarray()\n",
    "    return sidemic"
   ]
  },
  {
   "cell_type": "code",
   "execution_count": 8,
   "id": "468fe88b-85d1-4624-83db-70cbd4ceee89",
   "metadata": {},
   "outputs": [],
   "source": [
    "def motor_y_from_sidemic(sidemic, step=20, start=0, px_size=0.0013):\n",
    "    # One cannot fully trust that the motor_y motion results in a motion of the liquid sheet\n",
    "    # so we'll use the sidemic to get the real y motion\n",
    "    import skimage.registration\n",
    "    run_shift = np.zeros((sidemic.shape[0],2))\n",
    "    for i in np.arange(start+step,sidemic.shape[0],step):\n",
    "        shift, error, phasediff = skimage.registration.phase_cross_correlation(sidemic[i-step], sidemic[i])\n",
    "        run_shift[i] = shift\n",
    "    return np.cumsum(run_shift[:,0])*px_size"
   ]
  },
  {
   "cell_type": "code",
   "execution_count": 9,
   "id": "d2648301-c4ef-4079-9e0b-bc4e3fee7589",
   "metadata": {},
   "outputs": [],
   "source": [
    "# IPA thin run\n",
    "run = 193\n",
    "xgm, motor_x, motor_y, radavg, xgm2, sidemic = read_run_sync_trains(run, verbose=False)\n",
    "# This run only had x-rays at every 4th detector frame\n",
    "radavg_train = np.mean(radavg[:,1:177:4,:],axis=1)"
   ]
  },
  {
   "cell_type": "code",
   "execution_count": 10,
   "id": "3f396d6d-e8c0-4824-ae04-4ad64c0019a0",
   "metadata": {},
   "outputs": [
    {
     "data": {
      "application/vnd.jupyter.widget-view+json": {
       "model_id": "77a8e79c9a654612a230b44429b399e0",
       "version_major": 2,
       "version_minor": 0
      },
      "text/plain": [
       "Canvas(toolbar=Toolbar(toolitems=[('Home', 'Reset original view', 'home', 'home'), ('Back', 'Back to previous …"
      ]
     },
     "metadata": {},
     "output_type": "display_data"
    }
   ],
   "source": [
    "plt.figure()\n",
    "plt.plot(np.nanmean(radavg_train,axis=1))\n",
    "# Highlight the range we're gonna use, corresponding to the thinnest part of the sheet\n",
    "plt.axvline(x=1850,ls=':')\n",
    "plt.axvline(x=1950,ls=':')\n",
    "plt.show()\n",
    "rad_avg_thin = xarray.DataArray(data=np.nanmean(radavg_train[1850:1950],axis=0), dims=('q'), coords={'q': radavg.coords['q'].data})\n",
    "rad_avg_thin.to_netcdf(\"rad_avg_r83_trains_1850_1950.nc\")"
   ]
  },
  {
   "cell_type": "code",
   "execution_count": 86,
   "id": "8d57a68b-6e0a-482c-a85b-7c69f370ba81",
   "metadata": {},
   "outputs": [],
   "source": [
    "# Find out how many ADUs are one photon\n",
    "run = 193\n",
    "r = RunDirectory(path='/gpfs/exfel/exp/SPB/202202/p003046/proc/r%04d' % run)\n",
    "sel = r.select('SPB_DET_AGIPD1M-1/DET/*CH0:xtdf', 'image.data')\n",
    "# Take an image with plenty of single photons\n",
    "data = sel.train_from_index(1800)\n",
    "import extra_geom\n",
    "geom = extra_geom.AGIPD_1MGeometry.from_crystfel_geom('/gpfs/exfel/exp/SPB/202202/p003046'+'/scratch/geom/agipd_september_2022_v03.geom')\n",
    "import extra_data  \n",
    "modules_data = extra_data.stack_detector_data(data[1], 'image.data')"
   ]
  },
  {
   "cell_type": "code",
   "execution_count": 87,
   "id": "c08e52ac-f4b4-4620-8bc1-553d56dca513",
   "metadata": {},
   "outputs": [],
   "source": [
    "# Take a peak at \n",
    "#geom.plot_data(modules_data[1], vmin=10, vmax=60)\n",
    "#plt.show()"
   ]
  },
  {
   "cell_type": "code",
   "execution_count": 88,
   "id": "9376017f-2b8b-4c5b-b874-7f5433bbf19e",
   "metadata": {},
   "outputs": [
    {
     "data": {
      "application/vnd.jupyter.widget-view+json": {
       "model_id": "7f46eaf533704309bc198c45d0842ced",
       "version_major": 2,
       "version_minor": 0
      },
      "text/plain": [
       "Canvas(toolbar=Toolbar(toolitems=[('Home', 'Reset original view', 'home', 'home'), ('Back', 'Back to previous …"
      ]
     },
     "metadata": {},
     "output_type": "display_data"
    }
   ],
   "source": [
    "# Plot the histogram to find the one photon peak\n",
    "import scipy.signal\n",
    "plt.figure()\n",
    "counts, bins, _ = plt.hist(modules_data[1].flatten(),bins=300, range=[-150,149],lw=0)\n",
    "centers = (bins[:-1]+bins[1:])/2\n",
    "peaks, _ = scipy.signal.find_peaks(counts, width=10)\n",
    "plt.axvline(x=centers[peaks[1]],ls=':',color='black', lw=1)\n",
    "ADUs_per_photon = centers[peaks[1]]\n",
    "plt.savefig('../figures/LJ_r193_ADU_to_photon_histogram.pdf')\n",
    "plt.show()"
   ]
  },
  {
   "cell_type": "code",
   "execution_count": 89,
   "id": "ff8dc7bc-ade9-4049-a3f5-dc1b32811d97",
   "metadata": {},
   "outputs": [],
   "source": [
    "gmx_data = np.loadtxt(\"../md/IPA/sq.xvg\")\n",
    "gmx_natoms = 984*12\n",
    "data = gmx_data.copy()\n",
    "# GROMACS does a per atom scattering\n",
    "data[:,1] *= gmx_natoms\n",
    "\n",
    "# Volume of the gmx box = 5 nm**3\n",
    "gmx_volume = 5e-9**3 # m^3\n",
    "gmx_area = 5e-9**2 # m^2\n",
    "gmx_depth = 5e-9\n",
    "\n",
    "# We're gonna take 2 mJ at 8keV as that's what the XGM gave\n",
    "# This assumes no losses on the mirrors which is optimistic\n",
    "ph_E_eV = 8000 # eV\n",
    "ph_E = ph_E_eV * 1.60218e-19 # J\n",
    "I0_E = 2e-3 # J\n",
    "\n",
    "I0 = I0_E/ph_E/gmx_area # ph/m^2\n",
    "\n",
    "# AGIPD pixel area\n",
    "pixel_area = 200e-6**2 # m^2\n",
    "# pixel solid angle\n",
    "detector_distance = 331e-3 # m\n",
    "pixel_omega = pixel_area/detector_distance**2\n",
    "\n",
    "Thomson_differential_cross_section = 2.8179403e-15**2 #m^2\n",
    "\n",
    "sample_depth = 55e-9\n",
    "depth_factor = sample_depth/gmx_depth"
   ]
  },
  {
   "cell_type": "code",
   "execution_count": 90,
   "id": "04145abe-851f-46f2-bc38-574179168668",
   "metadata": {},
   "outputs": [
    {
     "name": "stdout",
     "output_type": "stream",
     "text": [
      "Fit error: 0.333449\n"
     ]
    },
    {
     "data": {
      "application/vnd.jupyter.widget-view+json": {
       "model_id": "9f343da74cdf4fd3830d2a755da9ea47",
       "version_major": 2,
       "version_minor": 0
      },
      "text/plain": [
       "Canvas(toolbar=Toolbar(toolitems=[('Home', 'Reset original view', 'home', 'home'), ('Back', 'Back to previous …"
      ]
     },
     "metadata": {},
     "output_type": "display_data"
    },
    {
     "name": "stdout",
     "output_type": "stream",
     "text": [
      "IPA depth from SAXS signal (assuming 100% beamline transmission) is 56 nm\n"
     ]
    }
   ],
   "source": [
    "exp_data = rad_avg_thin\n",
    "\n",
    "# Scale the simulated scattering to experimental conditions, per nm of depth of sample\n",
    "depth_factor = 1e-9/gmx_depth\n",
    "scaled_data = depth_factor*pixel_omega*Thomson_differential_cross_section*I0*data[:,1]\n",
    "# Gromacs critically samples the SAXS pattern. \n",
    "# Let's oversample it to match the experimental data better\n",
    "resampled_y, resampled_x = signal.resample(scaled_data, 100, t = data[:,0])\n",
    "\n",
    "# Find what's the optimal depth of sample that matches the experimental data\n",
    "f = scipy.interpolate.interp1d(resampled_x, resampled_y)\n",
    "res = scipy.optimize.minimize_scalar(lambda depth: np.nansum((depth*f(exp_data.coords['q'].data)-exp_data.data/ADUs_per_photon)**2))\n",
    "if(res.success != True):\n",
    "    raise\n",
    "else:\n",
    "    print('Fit error: %f' % (res.fun))\n",
    "sample_depth = res.x\n",
    "\n",
    "plt.figure()\n",
    "plt.xlabel('q (nm$^{-1}$)')\n",
    "plt.ylabel('I (arbitrary units)')\n",
    "plt.plot(resampled_x, sample_depth*resampled_y, label='MD simulation')\n",
    "\n",
    "plt.plot(exp_data.coords['q'].data, exp_data.data/ADUs_per_photon, label='Experiment' )\n",
    "plt.legend(frameon=False)\n",
    "plt.savefig('../figures/LJ_r193_thinnest_IPA_thickness_fit.pdf')\n",
    "plt.show()\n",
    "print('IPA depth from SAXS signal (assuming 100%% beamline transmission) is %d nm' % (sample_depth))\n"
   ]
  },
  {
   "cell_type": "code",
   "execution_count": 91,
   "id": "72efacf1-cfba-4c2a-a28b-e2daaa2d3746",
   "metadata": {},
   "outputs": [],
   "source": [
    "# Water thin run\n",
    "run = 86\n",
    "xgm, motor_x, motor_y, radavg, xgm2, sidemic = read_run_sync_trains(run, verbose=False)\n",
    "# Take only every 4th detector frame just like for IPA\n",
    "radavg_train = np.mean(radavg[:,1:177:4,:],axis=1)"
   ]
  },
  {
   "cell_type": "code",
   "execution_count": 92,
   "id": "43b2161c-45e2-43fe-a802-ebb5121d3136",
   "metadata": {},
   "outputs": [],
   "source": [
    "#plt.plot(np.nanmean(radavg_train,axis=1))\n",
    "#plt.show()\n",
    "rad_avg_water = xarray.DataArray(data=np.nanmean(radavg_train,axis=0), dims=('q'), coords={'q': radavg.coords['q'].data})"
   ]
  },
  {
   "cell_type": "code",
   "execution_count": 94,
   "id": "fbc3fe0a-be83-42a5-9eb4-4d2db93a2b05",
   "metadata": {},
   "outputs": [],
   "source": [
    "gmx_data = np.loadtxt(\"../md/H2O/sq.xvg\")\n",
    "gmx_natoms = 4055*3\n",
    "data = gmx_data.copy()\n",
    "# GROMACS does a per atom scattering\n",
    "data[:,1] *= gmx_natoms\n",
    "\n",
    "# Volume of the gmx box = 5 nm**3\n",
    "gmx_volume = 5e-9**3 # m^3\n",
    "gmx_area = 5e-9**2 # m^2\n",
    "gmx_depth = 5e-9\n",
    "\n",
    "# We're gonna take 2 mJ at 8keV as that's what the XGM gave\n",
    "# This assumes no losses on the mirrors which is optimistic\n",
    "ph_E_eV = 8000 # eV\n",
    "ph_E = ph_E_eV * 1.60218e-19 # J\n",
    "I0_E = 2e-3 # J\n",
    "\n",
    "I0 = I0_E/ph_E/gmx_area # ph/m^2\n",
    "\n",
    "# AGIPD pixel area\n",
    "pixel_area = 200e-6**2 # m^2\n",
    "# pixel solid angle\n",
    "detector_distance = 213e-3 # m\n",
    "pixel_omega = pixel_area/detector_distance**2\n",
    "\n",
    "Thomson_differential_cross_section = 2.8179403e-15**2 #m^2\n",
    "\n",
    "sample_depth = 55e-9\n",
    "depth_factor = sample_depth/gmx_depth"
   ]
  },
  {
   "cell_type": "code",
   "execution_count": 95,
   "id": "00137034-27a8-4ed5-ae52-7c5e6ad6d860",
   "metadata": {},
   "outputs": [
    {
     "name": "stdout",
     "output_type": "stream",
     "text": [
      "Fit error: 314.980456\n"
     ]
    },
    {
     "data": {
      "application/vnd.jupyter.widget-view+json": {
       "model_id": "664d41c55b2e4d3189fd02f2a858decc",
       "version_major": 2,
       "version_minor": 0
      },
      "text/plain": [
       "Canvas(toolbar=Toolbar(toolitems=[('Home', 'Reset original view', 'home', 'home'), ('Back', 'Back to previous …"
      ]
     },
     "metadata": {},
     "output_type": "display_data"
    },
    {
     "name": "stdout",
     "output_type": "stream",
     "text": [
      "Water depth from SAXS signal (assuming 100% beamline transmission) is 1644 nm\n"
     ]
    }
   ],
   "source": [
    "exp_data = rad_avg_water\n",
    "# Scale the simulated scattering to experimental conditions, per nm of depth of sample\n",
    "depth_factor = 1e-9/gmx_depth\n",
    "scaled_data = depth_factor*pixel_omega*Thomson_differential_cross_section*I0*data[:,1]\n",
    "# Gromacs critically samples the SAXS pattern. \n",
    "# Let's oversample it to match the experimental data better\n",
    "resampled_y, resampled_x = signal.resample(scaled_data, 100, t = data[:,0])\n",
    "\n",
    "# Find what's the optimal depth of sample that matches the experimental data\n",
    "f = scipy.interpolate.interp1d(resampled_x, resampled_y)\n",
    "res = scipy.optimize.minimize_scalar(lambda depth: np.nansum((depth*f(exp_data.coords['q'].data)-exp_data.data/ADUs_per_photon)**2))\n",
    "if(res.success != True):\n",
    "    raise\n",
    "else:\n",
    "    print('Fit error: %f' % (res.fun))\n",
    "sample_depth = res.x\n",
    "\n",
    "plt.figure()\n",
    "plt.xlabel('q (nm$^{-1}$)')\n",
    "plt.ylabel('I (arbitrary units)')\n",
    "plt.plot(resampled_x, sample_depth*resampled_y, label='MD simulation')\n",
    "\n",
    "\n",
    "\n",
    "plt.plot(exp_data.coords['q'].data, exp_data.data/ADUs_per_photon, label='Experiment' )\n",
    "plt.legend(frameon=False)\n",
    "plt.savefig('../figures/LJ_r86_water_thickness_fit.pdf')\n",
    "plt.show()\n",
    "print('Water depth from SAXS signal (assuming 100%% beamline transmission) is %d nm' % (sample_depth))"
   ]
  },
  {
   "cell_type": "code",
   "execution_count": 96,
   "id": "ce678eab-0280-4762-aa24-079647330026",
   "metadata": {},
   "outputs": [],
   "source": [
    "def IPA_thickness(exp_data, xgm_train):\n",
    "    gmx_data = np.loadtxt(\"../md/IPA/sq.xvg\")\n",
    "    gmx_natoms = 984*12\n",
    "    data = gmx_data.copy()\n",
    "    # GROMACS does a per atom scattering\n",
    "    data[:,1] *= gmx_natoms\n",
    "\n",
    "    # Volume of the gmx box = 5 nm**3\n",
    "    gmx_volume = 5e-9**3 # m^3\n",
    "    gmx_area = 5e-9**2 # m^2\n",
    "    gmx_depth = 5e-9\n",
    "\n",
    "    # We're gonna take 2 mJ at 8keV as that's what the XGM gave\n",
    "    # This assumes no losses on the mirrors which is optimistic\n",
    "    ph_E_eV = 8000 # eV\n",
    "    ph_E = ph_E_eV * 1.60218e-19 # J\n",
    "    \n",
    "    # We start by assuming a mJ and then rescale as necessary!\n",
    "    I0_E = 1e-3 # J\n",
    "\n",
    "    I0 = I0_E/ph_E/gmx_area # ph/m^2\n",
    "\n",
    "    # AGIPD pixel area\n",
    "    pixel_area = 200e-6**2 # m^2\n",
    "    # pixel solid angle\n",
    "    detector_distance = 331e-3 # m\n",
    "    pixel_omega = pixel_area/detector_distance**2\n",
    "\n",
    "    Thomson_differential_cross_section = 2.8179403e-15**2 #m^2\n",
    "\n",
    "    # Scale the simulated scattering to experimental conditions, per nm of depth of sample and per mJ of incident energy\n",
    "    depth_factor = 1e-9/gmx_depth\n",
    "    scaled_data = depth_factor*pixel_omega*Thomson_differential_cross_section*I0*data[:,1]\n",
    "    # Gromacs critically samples the SAXS pattern. \n",
    "    # Let's oversample it to match the experimental data better\n",
    "    resampled_y, resampled_x = signal.resample(scaled_data, 100, t = data[:,0])\n",
    "\n",
    "    # Find what's the optimal depth of sample that matches the experimental data\n",
    "    f = scipy.interpolate.interp1d(resampled_x, resampled_y)\n",
    "    if(exp_data.ndim > 1):\n",
    "        sample_depth = np.zeros(exp_data.shape[0])\n",
    "        for i in range(exp_data.shape[0]):\n",
    "            # The actual incident energy in mJ. We're using 65% for beamline transmission which is reasonable for SPB/SFX nanofocus @ 8 keV\n",
    "            I0_E_train = xgm_train.data[i]/1000.0 * 0.65\n",
    "            res = scipy.optimize.minimize_scalar(lambda depth: np.nansum((depth*I0_E_train*f(exp_data.coords['q'].data)-exp_data[i].data/ADUs_per_photon)**2))\n",
    "            if(res.success != True):\n",
    "                raise\n",
    "            sample_depth[i] = res.x\n",
    "    else:\n",
    "        res = scipy.optimize.minimize_scalar(lambda depth: np.nansum((depth*f(exp_data.coords['q'].data)-exp_data.data/ADUs_per_photon)**2))\n",
    "        sample_depth = res.x\n",
    "        if(res.success != True):\n",
    "            raise\n",
    "\n",
    "    return sample_depth"
   ]
  },
  {
   "cell_type": "code",
   "execution_count": 97,
   "id": "dbf66fba-5c8f-4b28-a972-8dac30b59484",
   "metadata": {},
   "outputs": [],
   "source": [
    "# IPA thin run\n",
    "run = 193\n",
    "xgm, motor_x, motor_y, radavg, xgm2, sidemic = read_run_sync_trains(run, verbose=False)\n",
    "xgm, radavg, xgm2 = sync_pulses(xgm, radavg, xgm2)\n",
    "# This run only had x-rays at every 4th detector frame\n",
    "radavg_train = np.mean(radavg[:,1:177:4,:],axis=1)\n",
    "xgm_train = np.mean(xgm,axis=1)"
   ]
  },
  {
   "cell_type": "code",
   "execution_count": 98,
   "id": "dc3667b5-329b-4da0-a4bf-6aa5efec89ba",
   "metadata": {},
   "outputs": [
    {
     "data": {
      "application/vnd.jupyter.widget-view+json": {
       "model_id": "544130102dba4de0869776e7eae42363",
       "version_major": 2,
       "version_minor": 0
      },
      "text/plain": [
       "Canvas(toolbar=Toolbar(toolitems=[('Home', 'Reset original view', 'home', 'home'), ('Back', 'Back to previous …"
      ]
     },
     "metadata": {},
     "output_type": "display_data"
    }
   ],
   "source": [
    "# Now need to find the distance to the nozzle\n",
    "sidemic_193 = sidemic.data[0]\n",
    "sidemic_end_193 = sidemic.data[-1]\n",
    "plt.figure()\n",
    "plt.imshow(sidemic_193[0:700,:])\n",
    "nozzle_end = 415\n",
    "plt.axhline(y=nozzle_end,color='w',ls=':',lw=1)\n",
    "xray_pos = np.unravel_index(np.argmax(sidemic_193),sidemic_193.shape)\n",
    "plt.plot((xray_pos[1], xray_pos[1]), (xray_pos[0], nozzle_end), 'w--')\n",
    "plt.grid(None)\n",
    "plt.show()\n",
    "distance_to_nozzle_193 = (xray_pos[0]-nozzle_end)*0.0013"
   ]
  },
  {
   "cell_type": "code",
   "execution_count": 100,
   "id": "911f3c79-6069-43f0-8348-6f27b36056b2",
   "metadata": {},
   "outputs": [],
   "source": [
    "motor_y_sidemic = motor_y_from_sidemic(sidemic,start=400)"
   ]
  },
  {
   "cell_type": "code",
   "execution_count": 99,
   "id": "5d3e7726-d511-4dbf-bc00-31a171848454",
   "metadata": {},
   "outputs": [
    {
     "data": {
      "application/vnd.jupyter.widget-view+json": {
       "model_id": "3ca8534cf5ce4567a1d5281938dba3f8",
       "version_major": 2,
       "version_minor": 0
      },
      "text/plain": [
       "Canvas(toolbar=Toolbar(toolitems=[('Home', 'Reset original view', 'home', 'home'), ('Back', 'Back to previous …"
      ]
     },
     "metadata": {},
     "output_type": "display_data"
    }
   ],
   "source": [
    "plt.figure()\n",
    "plt.plot(motor_y_sidemic, label='y from sidemic')\n",
    "plt.plot(motor_y-motor_y[0], label='motor y')\n",
    "plt.legend()\n",
    "plt.savefig('../figures/LJ_r193_motor_y_vs_sidemic_motor_y.pdf')\n",
    "plt.show()"
   ]
  },
  {
   "cell_type": "code",
   "execution_count": 25,
   "id": "228b7815-2a57-4cd2-b41a-037111471706",
   "metadata": {},
   "outputs": [],
   "source": [
    "depth_193 = IPA_thickness(radavg_train, xgm_train)\n",
    "motor_193 = motor_y_sidemic.data + distance_to_nozzle_193"
   ]
  },
  {
   "cell_type": "code",
   "execution_count": 102,
   "id": "ff90ec56-9dfa-4604-a807-e0acd9f1c814",
   "metadata": {},
   "outputs": [
    {
     "data": {
      "application/vnd.jupyter.widget-view+json": {
       "model_id": "be74314396024556a8847918587abceb",
       "version_major": 2,
       "version_minor": 0
      },
      "text/plain": [
       "Canvas(toolbar=Toolbar(toolitems=[('Home', 'Reset original view', 'home', 'home'), ('Back', 'Back to previous …"
      ]
     },
     "metadata": {},
     "output_type": "display_data"
    }
   ],
   "source": [
    "plt.figure()\n",
    "# We're only going to 1900 as afterwards we start to hit the rim\n",
    "sns.lineplot(x = np.round(motor_193[:1900],2), y=depth_193[:1900], errorbar=('sd',3), marker='.', markers=True)\n",
    "plt.xlabel('Distance to nozzle (mm)')\n",
    "plt.ylabel('Liquid Sheet Thickness (nm)')\n",
    "plt.savefig('../figures/LJ_r193_IPA_vertical_scan_thickness_fit.pdf')\n",
    "plt.show()"
   ]
  },
  {
   "cell_type": "code",
   "execution_count": 103,
   "id": "755b5e13-3bd7-484c-a7cd-2b7f0d70ef12",
   "metadata": {},
   "outputs": [],
   "source": [
    "# IPA thin run #2\n",
    "run = 197\n",
    "xgm, motor_x, motor_y, radavg, xgm2, sidemic = read_run_sync_trains(run, verbose=False)\n",
    "xgm, radavg, xgm2 = sync_pulses(xgm, radavg, xgm2)\n",
    "# This run only had x-rays at every detector frame\n",
    "radavg_train = np.mean(radavg[:,1:177:1,:],axis=1)\n",
    "xgm_train = np.mean(xgm,axis=1)"
   ]
  },
  {
   "cell_type": "code",
   "execution_count": 104,
   "id": "b4727825-fce1-4077-b540-c60724dfb023",
   "metadata": {},
   "outputs": [
    {
     "data": {
      "application/vnd.jupyter.widget-view+json": {
       "model_id": "21a4a1cc674347b4b6cc409f24325732",
       "version_major": 2,
       "version_minor": 0
      },
      "text/plain": [
       "Canvas(toolbar=Toolbar(toolitems=[('Home', 'Reset original view', 'home', 'home'), ('Back', 'Back to previous …"
      ]
     },
     "metadata": {},
     "output_type": "display_data"
    }
   ],
   "source": [
    "# Now need to find the distance to the nozzle\n",
    "sidemic_197 = sidemic.data[0]\n",
    "plt.figure()\n",
    "plt.imshow(sidemic_197[0:700,:])\n",
    "nozzle_end = 380\n",
    "plt.axhline(y=nozzle_end,color='w',ls=':',lw=1)\n",
    "xray_pos = np.unravel_index(np.argmax(sidemic_197),sidemic_197.shape)\n",
    "plt.plot((xray_pos[1], xray_pos[1]), (xray_pos[0], nozzle_end), 'w--')\n",
    "plt.grid(None)\n",
    "plt.show()\n",
    "distance_to_nozzle_197 = (xray_pos[0]-nozzle_end)*0.0013"
   ]
  },
  {
   "cell_type": "code",
   "execution_count": 105,
   "id": "204be763-3776-4ea2-b3b1-25450aac55ad",
   "metadata": {},
   "outputs": [],
   "source": [
    "depth_197 = IPA_thickness(radavg_train, xgm_train)\n",
    "motor_197 = motor_y_from_sidemic(sidemic,start=0) + distance_to_nozzle_197"
   ]
  },
  {
   "cell_type": "code",
   "execution_count": 106,
   "id": "79fabe74-7fa7-4241-9aad-2508e3193df9",
   "metadata": {},
   "outputs": [
    {
     "data": {
      "application/vnd.jupyter.widget-view+json": {
       "model_id": "dcae499954ab429ba6894c15e50acbe5",
       "version_major": 2,
       "version_minor": 0
      },
      "text/plain": [
       "Canvas(toolbar=Toolbar(toolitems=[('Home', 'Reset original view', 'home', 'home'), ('Back', 'Back to previous …"
      ]
     },
     "metadata": {},
     "output_type": "display_data"
    }
   ],
   "source": [
    "plt.figure()\n",
    "plt.plot(motor_197-motor_197[0], label='y from sidemic')\n",
    "plt.plot(motor_y-motor_y[0], label='motor y')\n",
    "plt.legend()\n",
    "plt.savefig('../figures/LJ_r197_motor_y_vs_sidemic_motor_y.pdf')\n",
    "plt.show()"
   ]
  },
  {
   "cell_type": "code",
   "execution_count": 107,
   "id": "15e46af2-0639-4e71-af5b-f17dca4e9637",
   "metadata": {},
   "outputs": [
    {
     "data": {
      "application/vnd.jupyter.widget-view+json": {
       "model_id": "a7b3e221096a46e294e91ee21c195abd",
       "version_major": 2,
       "version_minor": 0
      },
      "text/plain": [
       "Canvas(toolbar=Toolbar(toolitems=[('Home', 'Reset original view', 'home', 'home'), ('Back', 'Back to previous …"
      ]
     },
     "metadata": {},
     "output_type": "display_data"
    }
   ],
   "source": [
    "plt.figure()\n",
    "sns.lineplot(x = np.round(motor_197[500:2000],2), y=depth_197[500:2000], errorbar=('sd',3), marker='.', markers=True)\n",
    "plt.xlabel('Distance to nozzle (mm)')\n",
    "plt.ylabel('Liquid Sheet Thickness (nm)')\n",
    "plt.savefig('../figures/LJ_r197_IPA_vertical_scan_thickness_fit.pdf')\n",
    "plt.show()"
   ]
  },
  {
   "cell_type": "code",
   "execution_count": 108,
   "id": "c41786b9-117e-4e93-a73e-9aded9b461bd",
   "metadata": {},
   "outputs": [
    {
     "data": {
      "application/vnd.jupyter.widget-view+json": {
       "model_id": "0872325f204b4cb095883236bac2ffc9",
       "version_major": 2,
       "version_minor": 0
      },
      "text/plain": [
       "Canvas(toolbar=Toolbar(toolitems=[('Home', 'Reset original view', 'home', 'home'), ('Back', 'Back to previous …"
      ]
     },
     "metadata": {},
     "output_type": "display_data"
    }
   ],
   "source": [
    "plt.figure()\n",
    "sns.lineplot(x = np.round(motor_197[500:2000],2), y=depth_197[500:2000], errorbar=('sd',3), marker='.', markers=True, label='564 kHz (run 197)')\n",
    "sns.lineplot(x = np.round(motor_193[:2000],2), y=depth_193[:2000], errorbar=('sd',3), marker='.', markers=True, label='141 kHz (run 193)')\n",
    "plt.xlabel('Distance to nozzle (mm)')\n",
    "plt.ylabel('Liquid Sheet Thickness (nm)')\n",
    "plt.savefig('../figures/LJ_r193_and_197_IPA_vertical_scan_thickness_fit.pdf')\n",
    "plt.show()"
   ]
  },
  {
   "cell_type": "code",
   "execution_count": 109,
   "id": "4ab759c2-60d8-4478-9fbe-41355a6b714e",
   "metadata": {},
   "outputs": [],
   "source": [
    "# IPA horizontal scan run\n",
    "run = 194\n",
    "xgm, motor_x, motor_y, radavg, xgm2, sidemic = read_run_sync_trains(run, verbose=False)\n",
    "xgm, radavg, xgm2 = sync_pulses(xgm, radavg, xgm2)\n",
    "# This run only had x-rays at every 4th detector frame\n",
    "radavg_train = np.mean(radavg[:,1:177:4,:],axis=1)\n",
    "xgm_train = np.mean(xgm,axis=1)"
   ]
  },
  {
   "cell_type": "code",
   "execution_count": 110,
   "id": "a3d48a02-47a0-44e2-8e26-07de3009af43",
   "metadata": {},
   "outputs": [
    {
     "data": {
      "application/vnd.jupyter.widget-view+json": {
       "model_id": "577efa5422a34af5a3006c833c8f97f7",
       "version_major": 2,
       "version_minor": 0
      },
      "text/plain": [
       "Canvas(toolbar=Toolbar(toolitems=[('Home', 'Reset original view', 'home', 'home'), ('Back', 'Back to previous …"
      ]
     },
     "metadata": {},
     "output_type": "display_data"
    },
    {
     "name": "stdout",
     "output_type": "stream",
     "text": [
      "Tilt angle 0.519352π radians\n"
     ]
    }
   ],
   "source": [
    "\n",
    "# There's a slighy tilt of the liquid sheet which means the scan is not perfectly horizontal\n",
    "# Let's estimate the tilt\n",
    "plt.figure(figsize=(2.5, 6))\n",
    "plt.imshow(sidemic[0][600:,300:500])\n",
    "plt.plot([79,114], [95, 670],'w--', lw=2)\n",
    "plt.grid(None)\n",
    "lj_angle = np.arctan2(670-95,79-114)\n",
    "print(\"Tilt angle %f\\u03C0 radians\" % (lj_angle/np.pi))\n",
    "plt.tight_layout()\n",
    "plt.savefig('../figures/LJ_r194_tilt_angle.pdf')\n",
    "plt.show()"
   ]
  },
  {
   "cell_type": "code",
   "execution_count": 111,
   "id": "50693be7-121d-4344-8c03-7b25c0c76dcf",
   "metadata": {},
   "outputs": [
    {
     "data": {
      "application/vnd.jupyter.widget-view+json": {
       "model_id": "dcfc0d18ec1442329186ffd761ac8451",
       "version_major": 2,
       "version_minor": 0
      },
      "text/plain": [
       "Canvas(toolbar=Toolbar(toolitems=[('Home', 'Reset original view', 'home', 'home'), ('Back', 'Back to previous …"
      ]
     },
     "metadata": {},
     "output_type": "display_data"
    }
   ],
   "source": [
    "# Now need to find the distance to the nozzle\n",
    "sidemic_194 = sidemic.data[0]\n",
    "plt.figure()\n",
    "plt.imshow(sidemic_194[0:700,:])\n",
    "nozzle_end = 380\n",
    "plt.axhline(y=nozzle_end,color='w',ls=':',lw=1)\n",
    "# plamsa too weak for finding the beam\n",
    "#xray_pos = np.unravel_index(np.argmax(sidemic_194),sidemic_194.shape)\n",
    "xray_pos = (526, 371)\n",
    "plt.plot((xray_pos[1], xray_pos[1]), (xray_pos[0], nozzle_end), 'w--')\n",
    "plt.grid(None)\n",
    "plt.show()\n",
    "distance_to_nozzle_194 = (xray_pos[0]-nozzle_end)*0.0013"
   ]
  },
  {
   "cell_type": "code",
   "execution_count": 112,
   "id": "2e64d669-4279-42e7-8cad-5071de4ce966",
   "metadata": {},
   "outputs": [],
   "source": [
    "depth_194 = IPA_thickness(radavg_train, xgm_train)\n",
    "# Because the whole injector pivots around a point a motion of the motor_x does not move the liquid sheet by that amount but has to be scaled\n",
    "# We estimated this scale factor based on drawing of the injector\n",
    "motor_x_scale_factor = 133/750\n",
    "motor_194 = motor_x * motor_x_scale_factor\n"
   ]
  },
  {
   "cell_type": "code",
   "execution_count": 113,
   "id": "182d4d28-3562-40fe-a8a1-5e8c4c72682e",
   "metadata": {},
   "outputs": [
    {
     "data": {
      "application/vnd.jupyter.widget-view+json": {
       "model_id": "32959ac1d78841fb95b412f8e90cc4be",
       "version_major": 2,
       "version_minor": 0
      },
      "text/plain": [
       "Canvas(toolbar=Toolbar(toolitems=[('Home', 'Reset original view', 'home', 'home'), ('Back', 'Back to previous …"
      ]
     },
     "metadata": {},
     "output_type": "display_data"
    }
   ],
   "source": [
    "vertical_shift_194 = -(motor_194-motor_194[0])*np.cos(lj_angle)\n",
    "vertical_pos_194 = vertical_shift_194 + distance_to_nozzle_194\n",
    "plt.figure()\n",
    "plt.plot(vertical_pos_194)\n",
    "plt.savefig('../figures/LJ_r194_vertical_shift.pdf')\n",
    "plt.show()"
   ]
  },
  {
   "cell_type": "code",
   "execution_count": 114,
   "id": "57ec1353-3664-42cd-89f2-2eb2a66608bb",
   "metadata": {},
   "outputs": [],
   "source": [
    "# interpolate run 193 to get depth as a function of vertical pos\n",
    "depth_193_unique = []\n",
    "motor_193_unique = np.unique(np.round(motor_193,2))\n",
    "for x in motor_193_unique:\n",
    "    depth_193_unique.append(depth_193[np.round(motor_193,2) == x].mean())\n",
    "            \n",
    "\n",
    "depth_f_y = scipy.interpolate.interp1d(x = motor_193_unique, y=depth_193_unique, kind='quadratic')"
   ]
  },
  {
   "cell_type": "code",
   "execution_count": 115,
   "id": "8a2057d7-f03a-492c-a1c2-ea3f4736bfe5",
   "metadata": {},
   "outputs": [
    {
     "data": {
      "application/vnd.jupyter.widget-view+json": {
       "model_id": "58c4a61a68e843f0adf5c4dbc4e0c37b",
       "version_major": 2,
       "version_minor": 0
      },
      "text/plain": [
       "Canvas(toolbar=Toolbar(toolitems=[('Home', 'Reset original view', 'home', 'home'), ('Back', 'Back to previous …"
      ]
     },
     "metadata": {},
     "output_type": "display_data"
    }
   ],
   "source": [
    "# 1650 to 2300 corresponds to one continuous scan without hitting the edges of the sheet\n",
    "plt.figure()\n",
    "#sns.lineplot(x = np.round(2*(motor_194[1650:2150]-motor_194[0]),2)/2, y=depth_194[1650:2150], errorbar=('sd',1), marker='.', markers=True)\n",
    "#sns.lineplot(x = np.round((motor_194[1650:2150]-motor_194[0]),2), y=depth_194[1650:2150], errorbar=('sd',1), marker='.', markers=True)\n",
    "\n",
    "v_norm = depth_f_y(vertical_pos_194[1650:2150])/np.mean(depth_f_y(vertical_pos_194[1650:2150]))\n",
    "#sns.lineplot(x = np.round((motor_194[1650:2150]-motor_194[0]),2), y=depth_f_y(vertical_pos_194[1650:2150]), errorbar=('sd',1), marker='.', markers=True)\n",
    "sns.lineplot(x = np.round((motor_194[1650:2150]-motor_194[0]),2), y=depth_194[1650:2150]/v_norm, errorbar=('sd',1), marker='.', markers=True)\n",
    "plt.xlabel('Horizontal position (mm)')\n",
    "plt.ylabel('Liquid Sheet Thickness (nm)')\n",
    "#plt.xlim([None,8.2])\n",
    "plt.ylim([0,1250])\n",
    "plt.savefig('../figures/LJ_r194_horizontal_scan_thickness_fit.pdf')\n",
    "plt.show()"
   ]
  },
  {
   "cell_type": "code",
   "execution_count": null,
   "id": "7fea0337-c28a-4848-af24-b864cf3932b8",
   "metadata": {},
   "outputs": [],
   "source": []
  }
 ],
 "metadata": {
  "kernelspec": {
   "display_name": "xfel (current)",
   "language": "python",
   "name": "xfel-current"
  },
  "language_info": {
   "codemirror_mode": {
    "name": "ipython",
    "version": 3
   },
   "file_extension": ".py",
   "mimetype": "text/x-python",
   "name": "python",
   "nbconvert_exporter": "python",
   "pygments_lexer": "ipython3",
   "version": "3.9.16"
  }
 },
 "nbformat": 4,
 "nbformat_minor": 5
}
