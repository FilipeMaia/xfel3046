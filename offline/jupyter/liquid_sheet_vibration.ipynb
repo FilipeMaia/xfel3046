{
 "cells": [
  {
   "cell_type": "code",
   "execution_count": null,
   "id": "953cc00c-2edb-4f6b-8046-65c8dd317c2b",
   "metadata": {},
   "outputs": [],
   "source": [
    "from extra_data import RunDirectory \n",
    "import h5py \n",
    "import numpy as np \n",
    "import matplotlib.pyplot as plt "
   ]
  },
  {
   "cell_type": "code",
   "execution_count": null,
   "id": "eb019a20-09cf-40e4-963c-6c139988312d",
   "metadata": {},
   "outputs": [],
   "source": [
    "def extract_gifs(r, verbose=True):\n",
    "    run = RunDirectory(path=f'/gpfs/exfel/exp/SPB/202202/p003046/raw/r0{r}')  \n",
    "    \n",
    "    # The require_all=True ensures we only get trains which exist for all sources\n",
    "    sel = run.select([\n",
    "        ('SPB_XTD9_XGM/XGM/DOOCS:output', 'data.intensitySa1TD'),\n",
    "        ('SPB_IRU_MOTORS/MDL/DATA_SELECT', '*'),\n",
    "        ('SPB_EXP_ZYLA/CAM/1:daqOutput', 'data.image.pixels'),\n",
    "    ], require_all=True)\n",
    "    if(verbose):\n",
    "        sel.info()   \n",
    "    sidemic_extra = sel['SPB_EXP_ZYLA/CAM/1:daqOutput', 'data.image.pixels']\n",
    "    trains = sidemic_extra.train_id_coordinates()\n",
    "    sidemic = sidemic_extra.xarray()\n",
    "    return sidemic"
   ]
  },
  {
   "cell_type": "code",
   "execution_count": null,
   "id": "6960d43e-980f-4e11-8da0-c8d0ff35af93",
   "metadata": {},
   "outputs": [],
   "source": [
    "run = 185\n",
    "sidemic = extract_gifs(run)"
   ]
  },
  {
   "cell_type": "code",
   "execution_count": null,
   "id": "756848c1-2138-480f-8710-ee0365b6f9cd",
   "metadata": {},
   "outputs": [],
   "source": [
    "sidemic.shape"
   ]
  },
  {
   "cell_type": "code",
   "execution_count": null,
   "id": "3dc3df9c-da48-4ccc-a6c3-85e0969a7223",
   "metadata": {},
   "outputs": [],
   "source": [
    "# no parameter changes in the first 8 seconds of movie or 400 trains\n",
    "plt.figure(figsize=(10,4))\n",
    "plt.plot(np.mean(np.abs(sidemic.data[:400,8000:1000,200:600]-sidemic.data[0,800:1000,200:600].astype(float)),axis=(1,2)))\n",
    "plt.show()"
   ]
  },
  {
   "cell_type": "code",
   "execution_count": null,
   "id": "781f1e8b-4522-43cd-afee-5b52062406d4",
   "metadata": {},
   "outputs": [],
   "source": [
    "data = np.abs(sidemic.data[:400]-sidemic.data[0])"
   ]
  },
  {
   "cell_type": "code",
   "execution_count": null,
   "id": "55d0e356-0abd-4881-8c8f-8fa8a1fe100b",
   "metadata": {},
   "outputs": [],
   "source": [
    "data.shape"
   ]
  },
  {
   "cell_type": "code",
   "execution_count": null,
   "id": "55a42161-5e71-4498-a216-e3dd5e80768b",
   "metadata": {},
   "outputs": [],
   "source": [
    "plt.figure(figsize=(6,10))\n",
    "plt.imshow(sidemic[50,800:1000,200:600])\n",
    "plt.show()"
   ]
  },
  {
   "cell_type": "code",
   "execution_count": null,
   "id": "b4a0f262-5471-428b-8878-a056ebc3b89d",
   "metadata": {},
   "outputs": [],
   "source": [
    "np.mean(sidemic.data[0,800:1000,200:600])"
   ]
  },
  {
   "cell_type": "code",
   "execution_count": null,
   "id": "16ae4d5b-df7a-4469-9c1f-6c19e7d22c8c",
   "metadata": {},
   "outputs": [],
   "source": [
    "plt.figure(figsize=(6,10))\n",
    "plt.imshow(sidemic[60,800:1000,200:600]-sidemic[0,800:1000,200:600].astype(float))\n",
    "plt.colorbar()\n",
    "plt.show()"
   ]
  },
  {
   "cell_type": "code",
   "execution_count": null,
   "id": "d013f199-d45c-4931-aafe-1bc8d1761062",
   "metadata": {},
   "outputs": [],
   "source": [
    "sidemic.data.dtype"
   ]
  },
  {
   "cell_type": "code",
   "execution_count": null,
   "id": "f4512a46-a951-4c3f-a82e-be4c4b472274",
   "metadata": {},
   "outputs": [],
   "source": [
    "plt.figure(figsize=(6,10))\n",
    "plt.imshow(sidemic[50,800:1000,200:600] < 8000)\n",
    "plt.colorbar()\n",
    "plt.show()"
   ]
  },
  {
   "cell_type": "code",
   "execution_count": null,
   "id": "1fb79b49-5833-414b-899e-715ed7ad5d49",
   "metadata": {},
   "outputs": [],
   "source": [
    "plt.figure(figsize=(6,10))\n",
    "plt.imshow((sidemic[60,800:1000,200:600] < 8000)-(sidemic[0,800:1000,200:600] < 8000).astype(float))\n",
    "plt.colorbar()\n",
    "plt.show()"
   ]
  },
  {
   "cell_type": "code",
   "execution_count": null,
   "id": "fbb05ce1-93af-46f5-8d01-dbfa09c6ab9f",
   "metadata": {},
   "outputs": [],
   "source": [
    "# no parameter changes in the first 8 seconds of movie or 400 trains\n",
    "plt.figure(figsize=(10,4))\n",
    "plt.plot(np.mean(np.abs((sidemic.data[:400,800:1000,200:600] < 8000)-(sidemic.data[0,800:1000,200:600] < 8000).astype(float)),axis=(1,2)))\n",
    "plt.show()"
   ]
  },
  {
   "cell_type": "code",
   "execution_count": null,
   "id": "053779b0-8c2e-4164-bc7b-03d467c16716",
   "metadata": {},
   "outputs": [],
   "source": [
    "variation = np.mean(np.abs((sidemic.data[:400,800:1000,200:600] < 8000)-(sidemic.data[0,800:1000,200:600] < 8000).astype(float)),axis=(1,2))"
   ]
  },
  {
   "cell_type": "code",
   "execution_count": null,
   "id": "2b419b5f-cb65-419f-bd98-0fae6ab8ef6d",
   "metadata": {},
   "outputs": [],
   "source": [
    "variation.shape"
   ]
  },
  {
   "cell_type": "code",
   "execution_count": null,
   "id": "5041e67d-0c63-4e41-abef-0217eca825c2",
   "metadata": {},
   "outputs": [],
   "source": [
    "np.mean(variation[::20])"
   ]
  },
  {
   "cell_type": "code",
   "execution_count": null,
   "id": "57aa81a6-ba6c-4cb7-88c8-d65f3d32bc55",
   "metadata": {},
   "outputs": [],
   "source": [
    "np.mean(variation[::10])"
   ]
  },
  {
   "cell_type": "code",
   "execution_count": null,
   "id": "3c26b383-6cb3-4865-82b4-0cd17a8fc31c",
   "metadata": {},
   "outputs": [],
   "source": [
    "plt.plot(np.fft.fftfreq(len(variation),d=0.1),np.abs(np.fft.fft(variation)),'.')\n",
    "plt.xlim(0,2)"
   ]
  },
  {
   "cell_type": "code",
   "execution_count": null,
   "id": "cdb7e485-3260-4132-b8f2-c1e605cb3b8a",
   "metadata": {},
   "outputs": [],
   "source": [
    "np.fft.fftfreq(len(variation))"
   ]
  },
  {
   "cell_type": "code",
   "execution_count": null,
   "id": "51636d65-9108-4608-af97-776c4166e397",
   "metadata": {},
   "outputs": [],
   "source": [
    "type(variation)"
   ]
  },
  {
   "cell_type": "code",
   "execution_count": null,
   "id": "f7206159-7e6a-4d3d-937f-8075f1861c1d",
   "metadata": {},
   "outputs": [],
   "source": [
    "400/38"
   ]
  },
  {
   "cell_type": "code",
   "execution_count": null,
   "id": "b635c66f-bba2-47f2-85be-20c936044d56",
   "metadata": {},
   "outputs": [],
   "source": [
    "# no parameter changes in the first 8 seconds of movie or 400 trains\n",
    "plt.figure(figsize=(10,4))\n",
    "plt.plot(np.mean(np.abs((sidemic.data[:400,800:1000,200:600] < 8000)-(sidemic.data[7,800:1000,200:600] < 8000).astype(float)),axis=(1,2)))\n",
    "plt.show()"
   ]
  },
  {
   "cell_type": "code",
   "execution_count": null,
   "id": "54576710-ff62-40be-8787-44cd73d93d60",
   "metadata": {},
   "outputs": [],
   "source": [
    "variation2 = np.mean(np.abs((sidemic.data[:400,800:1000,200:600] < 8000)-(sidemic.data[7,800:1000,200:600] < 8000).astype(float)),axis=(1,2))"
   ]
  },
  {
   "cell_type": "code",
   "execution_count": null,
   "id": "f459854f-0d5a-4fb1-842d-c0eee8da0f59",
   "metadata": {},
   "outputs": [],
   "source": [
    "import scipy.signal\n",
    "corr = scipy.signal.correlate((sidemic.data[:400,800:1000,200:600] < 8000).astype(float), (sidemic.data[:400,800:1000,200:600] < 8000).astype(float), mode='same', method='auto')"
   ]
  },
  {
   "cell_type": "code",
   "execution_count": null,
   "id": "b53b8784-efac-4730-a71e-6456c7af1c8e",
   "metadata": {},
   "outputs": [],
   "source": [
    "corr.shape"
   ]
  },
  {
   "cell_type": "code",
   "execution_count": null,
   "id": "14a5d6e8-2975-40db-9310-0c3c63cb0b1c",
   "metadata": {},
   "outputs": [],
   "source": [
    "plt.plot(corr[:,0,0])"
   ]
  },
  {
   "cell_type": "code",
   "execution_count": null,
   "id": "8eabbcaf-8016-47c9-8ac1-b5b1984ac675",
   "metadata": {},
   "outputs": [],
   "source": [
    "np.np.argmax(corr)"
   ]
  },
  {
   "cell_type": "code",
   "execution_count": null,
   "id": "04705b66-defb-4285-baba-7dfe0b8ba5c1",
   "metadata": {},
   "outputs": [],
   "source": [
    "corr[0,0,0]"
   ]
  },
  {
   "cell_type": "code",
   "execution_count": null,
   "id": "f2e1644e-27ee-4b4a-a363-426058c10ebb",
   "metadata": {},
   "outputs": [],
   "source": []
  }
 ],
 "metadata": {
  "kernelspec": {
   "display_name": "xfel (current)",
   "language": "python",
   "name": "xfel-current"
  },
  "language_info": {
   "codemirror_mode": {
    "name": "ipython",
    "version": 3
   },
   "file_extension": ".py",
   "mimetype": "text/x-python",
   "name": "python",
   "nbconvert_exporter": "python",
   "pygments_lexer": "ipython3",
   "version": "3.9.16"
  }
 },
 "nbformat": 4,
 "nbformat_minor": 5
}
