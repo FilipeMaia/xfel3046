{
 "cells": [
  {
   "cell_type": "code",
   "execution_count": null,
   "id": "ddc1a41d-6331-4ac6-ae84-14e8dd6c11a7",
   "metadata": {},
   "outputs": [],
   "source": [
    "import h5py \n",
    "import sys, warnings\n",
    "\n",
    "import numpy as np \n",
    "import numpy.matlib as matlib \n",
    "\n",
    "import matplotlib\n",
    "import matplotlib.pyplot as plt \n",
    "import matplotlib.animation as animation\n",
    "\n",
    "from extra_data import RunDirectory \n",
    "\n",
    "from scipy import stats \n",
    "from IPython.display import clear_output  \n",
    "\n",
    "import logging \n",
    "logging.captureWarnings(True) \n",
    "\n",
    "from sklearn.mixture import GaussianMixture \n",
    "\n",
    "# Setting up a random generator \n",
    "def_rng = np.random.default_rng() "
   ]
  },
  {
   "cell_type": "markdown",
   "id": "7cb52c90-e223-4adc-8b61-52de8fe9f00d",
   "metadata": {},
   "source": [
    "## Functions"
   ]
  },
  {
   "cell_type": "code",
   "execution_count": null,
   "id": "3f1a95a2-ee43-44b8-98ad-e4e0010391f1",
   "metadata": {},
   "outputs": [],
   "source": [
    "run = RunDirectory(path=f'/pnfs/xfel.eu/exfel/archive/XFEL/raw/SPB/202202/p003046/r0{193}')  \n",
    "run['SA1_XTD2_XGM/XGM/DOOCS:output']['data.intensitySa1TD']"
   ]
  },
  {
   "cell_type": "code",
   "execution_count": null,
   "id": "fa47f987-5272-438b-81de-9ce182aa6586",
   "metadata": {},
   "outputs": [],
   "source": [
    "import xarray\n",
    "\n",
    "def read_run_sync_trains(r, verbose=True):\n",
    "    #clear_output(wait=False) \n",
    "    #sys.stderr.write(f'Processing run {r}...\\n') \n",
    "    run = RunDirectory(path='/pnfs/xfel.eu/exfel/archive/XFEL/raw/SPB/202202/p003046/r%04d' % (r))  \n",
    "    \n",
    "    # The require_all=True ensures we only get trains which exist for all sources\n",
    "    sel = run.select([\n",
    "        ('SPB_XTD9_XGM/XGM/DOOCS:output', 'data.intensitySa1TD'),\n",
    "        ('SA1_XTD2_XGM/XGM/DOOCS:output', 'data.intensitySa1TD'),\n",
    "        ('SPB_IRU_MOTORS/MDL/DATA_SELECT', '*'),\n",
    "        ('SPB_EXP_ZYLA/CAM/1:daqOutput', 'data.image.pixels'),\n",
    "    ], require_all=True)\n",
    "    if(verbose):\n",
    "        sel.info()\n",
    "    \n",
    "    intensity_sase1_extra = sel['SPB_XTD9_XGM/XGM/DOOCS:output', 'data.intensitySa1TD']\n",
    "    intensity_preattenuator_sase1_extra = sel['SA1_XTD2_XGM/XGM/DOOCS:output', 'data.intensitySa1TD']    \n",
    "    motors_x_extra = sel['SPB_IRU_MOTORS/MDL/DATA_SELECT', 'SPB_IRU_INJMOV_MOTOR_X.actualPosition.value']\n",
    "    motors_y_extra = sel['SPB_IRU_MOTORS/MDL/DATA_SELECT', 'SPB_IRU_INJMOV_MOTOR_Y.actualPosition.value']\n",
    "\n",
    "    # Put the data in xarray\n",
    "    motor_x = motors_x_extra.xarray()\n",
    "    motor_y = motors_y_extra.xarray()\n",
    "    xgm = intensity_sase1_extra.xarray()\n",
    "    xgm2 = intensity_preattenuator_sase1_extra.xarray()\n",
    "    \n",
    "    directory = '/gpfs/exfel/u/scratch/SPB/202202/p003046/data' \n",
    "    agipd_frames_per_train = 202 # number of agipd frames per train\n",
    "    with h5py.File(directory+'/r%04d_proc_radavg.h5' % (r)) as rad: \n",
    "        radavg = rad['entry_1']['radialavg'][:]\n",
    "        trainIds = rad['entry_1']['trainId'][:]\n",
    "        q = rad['entry_1']['q'][:]\n",
    "    \n",
    "    # Reshape the arrays from the radavg file to make them by train\n",
    "    radavg = radavg.reshape((-1,agipd_frames_per_train,radavg.shape[1]))\n",
    "    trainIds = trainIds.reshape((-1,agipd_frames_per_train))\n",
    "    # Ensure all the trains are the same length\n",
    "    if (trainIds == trainIds[:,:1]).all() != True:\n",
    "        raise ValueError        \n",
    "    if(verbose):\n",
    "        print(\"Reshaping of radavg successful:\", (trainIds == trainIds[:,:1]).all())\n",
    "    trainIds = trainIds[:,0]\n",
    "    \n",
    "    # Put radavg in an xarray\n",
    "    radavg = xarray.DataArray(data=radavg, dims=('trainId', 'pulseNr', 'q'), \n",
    "                              coords={'trainId': trainIds, 'pulseNr': np.arange(agipd_frames_per_train), 'q': q})\n",
    "\n",
    "    # Find trains which are common between radavg and the rest\n",
    "    common_trains = np.intersect1d(intensity_sase1_extra.train_id_coordinates(), trainIds)\n",
    "    if verbose:\n",
    "        print(\"Found %d common train IDs between radavg and the rest\" % len(common_trains))\n",
    "\n",
    "    # Find the indices of the common trainIds and keep only those\n",
    "    common_train_idx = np.searchsorted(intensity_sase1_extra.train_id_coordinates(),common_trains)\n",
    "    motor_x = motor_x[common_train_idx]\n",
    "    motor_y = motor_y[common_train_idx]\n",
    "    xgm = xgm[common_train_idx]\n",
    "\n",
    "    # Find the indices of the common trainIds for radavg    \n",
    "    common_train_idx = np.searchsorted(radavg.coords['trainId'].data,common_trains)\n",
    "    radavg = radavg[common_train_idx]\n",
    "    \n",
    "    train_ids_eq = (motor_x.coords['trainId'].data == radavg.coords['trainId'].data)\n",
    "    if verbose:\n",
    "        print(\"Train IDs all match:\", train_ids_eq.all())\n",
    "    \n",
    "    return xgm, motor_x, motor_y, radavg, xgm2"
   ]
  },
  {
   "cell_type": "code",
   "execution_count": null,
   "id": "c2e0c909-52f2-4edd-b92f-3f39cf274b91",
   "metadata": {},
   "outputs": [],
   "source": [
    "\n",
    "def sync_pulses(xgm, radavg, xgm2):\n",
    "    # Find out how many X-ray pulses per train\n",
    "\n",
    "    npulses = np.sum(np.nanmean(xgm,axis=0) > 1.0)\n",
    "    # For certain runs we actually receive more than 176 pulses, but the agipd will only record 176   \n",
    "    npulses = min(npulses,176)\n",
    "    agipd_frames_per_pulse = 176//npulses\n",
    "    return xgm[:,:npulses], radavg[:,1:npulses*agipd_frames_per_pulse+1:agipd_frames_per_pulse,:], xgm2[:,:npulses]"
   ]
  },
  {
   "cell_type": "code",
   "execution_count": null,
   "id": "ea5ef890-44b4-4e82-8599-c2b6b2bb907b",
   "metadata": {},
   "outputs": [],
   "source": [
    "def integrate_q_range(radavg, q_min = 0.73, q_max = 13, verbose=True):\n",
    "    # q_min and q_max in 1/nm\n",
    "\n",
    "    q = radavg.coords['q'].data\n",
    "    q_min_idx = np.argmax(q > q_min)\n",
    "    q_max_idx = np.argmax(q > q_max)\n",
    "    \n",
    "    if(verbose):\n",
    "        print('Integrating between %g-%g 1/nm' % (q_min,q_max))   \n",
    "    I = xarray.DataArray(data=np.nansum(radavg[:,:,q_min_idx:q_max_idx],axis=2), dims=('trainId', 'pulseNr'), coords={'trainId': radavg.coords['trainId'], 'pulseNr': radavg.coords['pulseNr']})\n",
    "    return I"
   ]
  },
  {
   "cell_type": "code",
   "execution_count": null,
   "id": "a245a6ea-c9af-456e-92bf-6ca9b23564ac",
   "metadata": {},
   "outputs": [],
   "source": [
    "def linear_fit_trains(xgm, I, n=1):\n",
    "    # Do a linear fit of the intensity I versus the xgm, n consecutive trains at a time\n",
    "    # The default is to do one train at a time (n=1)\n",
    "    slopes = np.zeros(int(np.ceil(xgm.shape[0]/n)))\n",
    "    intercept = np.zeros(int(np.ceil(xgm.shape[0]/n)))\n",
    "    R2 = np.zeros(int(np.ceil(xgm.shape[0]/n)))\n",
    "    RelError = np.zeros(int(np.ceil(xgm.shape[0]/n)))\n",
    "    \n",
    "    for i,idx in enumerate(np.arange(0,xgm.shape[0],n)):\n",
    "        fit = stats.linregress(xgm.data[idx:idx+n].flatten(), I.data[idx:idx+n].flatten())\n",
    "        slopes[i] = fit.slope\n",
    "        intercept[i] = fit.intercept\n",
    "        R2[i] = fit.rvalue**2\n",
    "        fit_values = xgm.data[idx:idx+n].flatten()*fit.slope + fit.intercept\n",
    "        RelError[i] = np.nanmean(np.abs((I.data[idx:idx+n].flatten() - fit_values)/fit_values))\n",
    "    return slopes, intercept, R2, RelError"
   ]
  },
  {
   "cell_type": "code",
   "execution_count": null,
   "id": "c86b4b79-c878-451f-8507-b044a7689d62",
   "metadata": {},
   "outputs": [],
   "source": [
    "def xgm_range_normalized_R2(xgm, xgm2, R2, n=1):\n",
    "    # Calculate the correlation between the XGMs\n",
    "    _, _, R2_xgm, _ = linear_fit_trains(xgm, xgm2, n)\n",
    "    # Use the XGM correlation to normalize the intensity correlation\n",
    "    # Any large variations in the XGM correlation must be due to \n",
    "    # change in its range which should have no bearing on the quality\n",
    "    # of the sheet\n",
    "    return 1-(1-R2)*(1/(1-R2_xgm))*(1-np.mean(R2_xgm))"
   ]
  },
  {
   "cell_type": "code",
   "execution_count": null,
   "id": "72f27ed8-ec07-4fd3-9afc-062cf6754924",
   "metadata": {},
   "outputs": [],
   "source": [
    "def plot_xgm_vs_I(xgm, I, sample_trains = 4, subsample_plot = 10):\n",
    "\n",
    "    if(np.isscalar(sample_trains)):\n",
    "        # If we pass a number as sample_trains, interpret it as the number of random trains\n",
    "        sample_trains = np.sort(np.random.choice(xgm.shape[0], size=sample_trains, replace=False))\n",
    "    else:\n",
    "       # Otherwise interpret it as the list of trains to show as a sample\n",
    "        sample_trains = np.sort(np.array(sample_trains))\n",
    "    \n",
    "    # Plotting the scatter plots \n",
    "    fig_handle = plt.figure(figsize=(20,20)) \n",
    "    spec_handle = fig_handle.add_gridspec(nrows = 2, ncols = 2) \n",
    "\n",
    "    xgm_sample = xgm[sample_trains]\n",
    "    I_sample = I[sample_trains]\n",
    "    \n",
    "    fit = stats.linregress(xgm_sample.data.flatten(), I_sample.data.flatten())\n",
    "    # Plotting selected single-train AGIPD/XGM correlation \n",
    "    ax_i = fig_handle.add_subplot(spec_handle[0,0])\n",
    "    for t in sample_trains:\n",
    "        im_i = plt.scatter(xgm[t], I[t],s=5,label=t)\n",
    "    ax_i.legend(title='Sample trains', loc='lower right')\n",
    "    \n",
    "    xgm_limits = np.array([xgm.min(),xgm.max()])\n",
    "    ax_i.plot(xgm_limits, (fit.slope * xgm_limits + fit.intercept) , \"--k\", linewidth = 1) \n",
    "    ax_i.set_title('Sample Trains') \n",
    "    ax_i.set_ylabel('Integrated Intensity (ADU)') \n",
    "    ax_i.set_xlabel('XGM Pulse Energy (uJ)') \n",
    "    ax_i.annotate(\"$R^2$= \" + str(\"%0.5f\" % fit.rvalue**2), xy = (0.05, 0.95), \n",
    "                    xycoords = \"axes fraction\", size = 12); \n",
    "    ax_i.set_xlim(left=0)\n",
    "    ax_i.set_ylim(bottom=0)\n",
    "    \n",
    "    # Plotting selected multi-train AGIPD/XGM correlation \n",
    "    fit = stats.linregress(xgm.data.flatten(), I.data.flatten())\n",
    "    train = xgm.coords['trainId'].data\n",
    "    # Give the train number relative to the start of the run\n",
    "    train -= train[0]\n",
    "    c_points = np.broadcast_to(train.reshape((-1,1)), xgm.shape)\n",
    "\n",
    "    ax_i = fig_handle.add_subplot(spec_handle[0,1]) \n",
    "    im_i = plt.scatter(xgm[:,::subsample_plot],I[:,::subsample_plot],s=5,c=c_points[:,::subsample_plot]) \n",
    " \n",
    "    ax_i.plot(xgm_limits, (fit.slope * xgm_limits + fit.intercept) , \"--k\", linewidth = 1) \n",
    "    ax_i.annotate(\"$R^2$= \" + str(\"%0.5f\" % fit.rvalue**2), xy = (0.05, 0.95), \n",
    "                    xycoords = \"axes fraction\", size = 12)\n",
    "    ax_i.set_title('Entire Run') \n",
    "    ax_i.set_ylabel('Integrated Intensity (ADU)') \n",
    "    ax_i.set_xlabel('XGM Pulse Energy (uJ)') \n",
    "    ax_i.set_xlim(left=0)\n",
    "    ax_i.set_ylim(bottom=0)\n",
    "    plt.colorbar()\n",
    "#    plt.show()\n",
    "    \n",
    "    ax_i = fig_handle.add_subplot(spec_handle[1,0])\n",
    "    plt.plot(np.max(xgm,axis=1)-np.min(xgm,axis=1))\n",
    "    plt.xlabel('Train') \n",
    "    plt.ylabel('XGM Max-Min') \n",
    "    plt.title('XGM Range per Train')  \n",
    "    \n",
    "    ax_i = fig_handle.add_subplot(spec_handle[1,1])\n",
    "    plt.plot(np.mean(xgm,axis=1))\n",
    "    plt.xlabel('Train') \n",
    "    plt.ylabel('XGM Mean') \n",
    "    plt.title('XGM Mean per Train')  \n",
    "    plt.show()"
   ]
  },
  {
   "cell_type": "code",
   "execution_count": null,
   "id": "47c3a749-531c-4560-b46e-e0f3ee3cad73",
   "metadata": {},
   "outputs": [],
   "source": [
    "from matplotlib import colors\n",
    "\n",
    "def plot_R2_vs_motor(R2, motor_x, motor_y, vmax=25):\n",
    "    if np.std(motor_x) > np.std(motor_y):\n",
    "        motor = motor_x\n",
    "        axis = 'x'\n",
    "    else:\n",
    "        motor = motor_y\n",
    "        axis = 'y'\n",
    "    fig_handle = plt.figure(figsize=(20,20))\n",
    "    spec_handle = fig_handle.add_gridspec(nrows = 3, ncols = 2)\n",
    "    ax_i = fig_handle.add_subplot(spec_handle[0,0])\n",
    "    _ = plt.hist2d(motor,R2,bins=[25,256],vmax=vmax)\n",
    "    plt.xlabel('motor '+axis+' (mm)') \n",
    "    plt.ylabel('R^2') \n",
    "    plt.title('Histogram of R^2 between I and xgm per motor position')\n",
    "    plt.colorbar()\n",
    "    ax_i = fig_handle.add_subplot(spec_handle[0,1])\n",
    "    plt.plot(R2)\n",
    "    plt.xlabel('Train') \n",
    "    plt.ylabel('R^2') \n",
    "    plt.title('R^2 of the fit throughput the run')\n",
    "    \n",
    "    ax_i = fig_handle.add_subplot(spec_handle[1,0])\n",
    "    plt.plot(motor_x)\n",
    "    plt.xlabel('Train') \n",
    "    plt.ylabel('Position (mm)') \n",
    "    plt.title('Motor x position throughput the run')\n",
    "    ax_i = fig_handle.add_subplot(spec_handle[1,1])\n",
    "    plt.plot(motor_y)\n",
    "    plt.xlabel('Train') \n",
    "    plt.ylabel('Position (mm)') \n",
    "    plt.title('Motor y position throughput the run')    \n",
    "    plt.show()\n",
    "    \n"
   ]
  },
  {
   "cell_type": "code",
   "execution_count": null,
   "id": "40d64b52-1a11-4a6b-8fd2-ec5aca223d2b",
   "metadata": {},
   "outputs": [],
   "source": [
    "def plot_R2_vs_slope(R2, slopes, vmax=25):\n",
    "    fig_handle = plt.figure(figsize=(20,10))\n",
    "    spec_handle = fig_handle.add_gridspec(nrows = 1, ncols = 2)\n",
    "    ax_i = fig_handle.add_subplot(spec_handle[0,0])\n",
    "    plt.scatter(slopes, R2,c=np.arange(len(R2)))\n",
    "    plt.title('R2 vs Slope')\n",
    "    plt.xlabel('Slope')\n",
    "    plt.ylabel('R2')\n",
    "#    plt.ylim([0.1,1.0])\n",
    "#    plt.xlim([0,20])\n",
    "    plt.colorbar()\n",
    "    ax_i = fig_handle.add_subplot(spec_handle[0,1])\n",
    "    plt.plot(slopes, label='Slope',zorder=1)\n",
    "    plt.hlines(np.nanpercentile(slopes,5),xmin=0,xmax=len(slopes),linestyles=':', label=\"5 percentile = %g\" % np.nanpercentile(slopes,5))\n",
    "    plt.hlines(np.nanpercentile(slopes,95),xmin=0,xmax=len(slopes),linestyles='--', label=\"95 percentile = %g\" % np.nanpercentile(slopes,95))\n",
    "    plt.title('Slope of fit throughput the run')\n",
    "    plt.legend(loc='upper left')\n",
    "    plt.show()"
   ]
  },
  {
   "cell_type": "code",
   "execution_count": null,
   "id": "6ebd9e3d-bda8-413b-a73f-6819abfca3ca",
   "metadata": {},
   "outputs": [],
   "source": [
    "def look_for_gold(xgm, radavg, I):\n",
    "    r = 201\n",
    "    flat_I = I.data.flatten()\n",
    "    strongest = np.unravel_index(np.argsort(I.data, axis=None)[::-1], I.data.shape)\n",
    "    print(strongest)\n",
    "    #strongest = np.argsort(flat_I)[::-1]\n",
    "    radavg_flat = radavg.data.reshape((-1, radavg.shape[2]))\n",
    "    i = 1\n",
    "    while i < 100000:\n",
    "        print(strongest[0][i],strongest[1][i])\n",
    "        plt.plot(radavg[strongest[0][i],strongest[1][i]])\n",
    "        i *= 10        \n",
    "    gold_score = np.nansum(radavg[:,:,:20],axis=2)\n",
    "    gold_hit = np.unravel_index(np.argsort(gold_score, axis=None)[::-1], gold_score.shape)\n",
    "    plt.show()\n",
    "    plt.figure()\n",
    "    i = 1\n",
    "    while i < 100000:\n",
    "        print(i, gold_hit[0][i],gold_hit[1][i])\n",
    "        plt.plot(radavg[gold_hit[0][i],gold_hit[1][i]])\n",
    "        i *= 10\n",
    "    plt.show()\n",
    "    run = RunDirectory(path=f'/gpfs/exfel/d/raw/SPB/202202/p003046/r0{r}')  \n",
    "    sel = run.select('SPB_DET_AGIPD1M-1/DET/*CH0:xtdf', 'image.data')\n",
    "    train = xgm.coords['trainId'].data[gold_hit[0][10]]\n",
    "    tid, data = sel.train_from_id(train)\n",
    "    #print(data['image.data'])\n",
    "    return gold_hit"
   ]
  },
  {
   "cell_type": "code",
   "execution_count": null,
   "id": "902cd547-d44b-4c54-bf92-bfdb8a842949",
   "metadata": {},
   "outputs": [],
   "source": [
    "def extract_gifs(r, verbose=True):\n",
    "    run = RunDirectory(path=f'/gpfs/exfel/d/raw/SPB/202202/p003046/r0{r}')  \n",
    "    \n",
    "    # The require_all=True ensures we only get trains which exist for all sources\n",
    "    sel = run.select([\n",
    "        ('SPB_XTD9_XGM/XGM/DOOCS:output', 'data.intensitySa1TD'),\n",
    "        ('SPB_IRU_MOTORS/MDL/DATA_SELECT', '*'),\n",
    "        ('SPB_EXP_ZYLA/CAM/1:daqOutput', 'data.image.pixels'),\n",
    "    ], require_all=True)\n",
    "    if(verbose):\n",
    "        sel.info()   \n",
    "    sidemic_extra = sel['SPB_EXP_ZYLA/CAM/1:daqOutput', 'data.image.pixels']\n",
    "    trains = sidemic_extra.train_id_coordinates()\n",
    "    sidemic = sidemic_extra.xarray()\n",
    "    return sidemic\n",
    "    "
   ]
  },
  {
   "cell_type": "code",
   "execution_count": null,
   "id": "1f8992b8-847e-4ee0-9917-a905d881d826",
   "metadata": {},
   "outputs": [],
   "source": [
    "sidemic = extract_gifs(195)"
   ]
  },
  {
   "cell_type": "code",
   "execution_count": null,
   "id": "40040171-c842-47dc-8dcb-502d968464a0",
   "metadata": {},
   "outputs": [],
   "source": [
    "sidemic.shape"
   ]
  },
  {
   "cell_type": "code",
   "execution_count": null,
   "id": "f10d5e69-0e8a-4aa8-bea9-582bf63074f8",
   "metadata": {},
   "outputs": [],
   "source": [
    "my_dpi = 300\n",
    "plt.figure(figsize=(1200/my_dpi, 1400/my_dpi), dpi=my_dpi)\n",
    "plt.axis('off')\n",
    "plt.imshow(sidemic[1351])\n",
    "plt.show()"
   ]
  },
  {
   "cell_type": "code",
   "execution_count": null,
   "id": "33ae19b0-8815-4d6f-98fa-f79b67255776",
   "metadata": {},
   "outputs": [],
   "source": [
    "r = 201\n",
    "run = RunDirectory(path=f'/gpfs/exfel/d/proc/SPB/202202/p003046/r0{r}')\n",
    "sel = run.select('SPB_DET_AGIPD1M-1/DET/*CH0:xtdf', 'image.data')\n",
    "train = xgm.coords['trainId'].data[gold_hit[0][10]]\n",
    "tid, data = sel.train_from_id(train)\n",
    "\n"
   ]
  },
  {
   "cell_type": "code",
   "execution_count": null,
   "id": "37103878-290d-4985-945c-149755fa5d63",
   "metadata": {},
   "outputs": [],
   "source": [
    "import extra_geom\n",
    "from extra_data import open_run, stack_detector_data\n",
    "PREFIX = '/gpfs/exfel/exp/SPB/202202/p003046/'\n",
    "geom = extra_geom.AGIPD_1MGeometry.from_crystfel_geom(PREFIX+'/scratch/geom/agipd_september_2022_v03.geom')\n",
    "stacked = stack_detector_data(data, 'image.data')\n",
    "rank = 61000\n",
    "print(rank, gold_hit[0][rank], gold_hit[1][rank])\n",
    "stacked_pulse = stacked[gold_hit[1][rank]]\n",
    "fig, (ax0, ax1) = plt.subplots(ncols=2, figsize=(30, 20))\n",
    "#ax_cbar = fig.add_axes([0.15, 0.08, 0.7, 0.02])  # Create extra axes for the colorbar\n",
    "geom.plot_data(stacked_pulse, vmin=0, vmax=1000, ax=ax0, colorbar=False)\n",
    "stacked_pulse = stacked[gold_hit[1][rank]-1]\n",
    "geom.plot_data(stacked_pulse, vmin=0, vmax=1000, ax=ax1, colorbar=False)\n",
    "\n",
    "fig, (ax0, ax1) = plt.subplots(ncols=2, figsize=(30, 20))\n",
    "#ax_cbar = fig.add_axes([0.15, 0.08, 0.7, 0.02])  # Create extra axes for the colorbar\n",
    "stacked_pulse = stacked[gold_hit[1][rank]+1]\n",
    "geom.plot_data(stacked_pulse, vmin=0, vmax=1000, ax=ax0, colorbar=False)\n",
    "stacked_pulse = stacked[gold_hit[1][rank]-2]\n",
    "geom.plot_data(stacked_pulse, vmin=0, vmax=1000, ax=ax1, colorbar=False)\n",
    "plt.show()"
   ]
  },
  {
   "cell_type": "code",
   "execution_count": null,
   "id": "a8890951-22b8-437e-b83e-0803d876ea52",
   "metadata": {},
   "outputs": [],
   "source": []
  },
  {
   "cell_type": "code",
   "execution_count": null,
   "id": "10c6126e-7aa7-424f-a381-a5a00c2036f2",
   "metadata": {},
   "outputs": [],
   "source": [
    "gold_hit = look_for_gold(xgm, radavg, I)"
   ]
  },
  {
   "cell_type": "code",
   "execution_count": null,
   "id": "dd03db64-b92a-42af-9364-dcd2f65e8738",
   "metadata": {},
   "outputs": [],
   "source": [
    "def plot_all(runs):\n",
    "    from IPython.display import display, Markdown\n",
    "    for run in np.array(runs, copy=False, ndmin=1):\n",
    "        display(Markdown('<hr><h1 style=\"text-align:center\"> <font size=32>Analysis of Run %d</font></h1>' % run))\n",
    "        xgm, motor_x, motor_y, radavg, xgm2 = read_run_sync_trains(run, verbose=False)\n",
    "        xgm, radavg, xgm2 = sync_pulses(xgm, radavg, xgm2)\n",
    "        display(Markdown('<center>%d trains read and synchronized with %d pulses per train</center>' % (xgm.shape[0], xgm.shape[1])))\n",
    "        I = integrate_q_range(radavg, verbose=False)\n",
    "        slopes, intercept, R2, _ = linear_fit_trains(xgm, I)\n",
    "        norm_R2 = xgm_range_normalized_R2(xgm, xgm2, R2)\n",
    "        display(Markdown('<center><h2> Scattered vs Incident Intensity</h2></center>'))\n",
    "        plot_xgm_vs_I(xgm, I, sample_trains=10)\n",
    "        display(Markdown('<center><h2> Goodness of Fit Analysis</h2></center>'))\n",
    "        plot_R2_vs_motor(norm_R2, motor_x, motor_y)\n",
    "        display(Markdown('<center><h2> Slope of Fit Analysis</h2></center>'))\n",
    "        plot_R2_vs_slope(norm_R2, slopes)"
   ]
  },
  {
   "cell_type": "code",
   "execution_count": null,
   "id": "72d8afd0-e140-4e0b-aed0-e600cca306f9",
   "metadata": {},
   "outputs": [],
   "source": [
    "def log_linear_fits(xgm, I):\n",
    "    n = 1\n",
    "    R2_by_n = []\n",
    "    while(n < len(xgm)):\n",
    "        slopes, intercept, R2, _ = linear_fit_trains(xgm, I, n = n)\n",
    "        R2_by_n.append(R2)\n",
    "        n *= 4\n",
    "    return R2_by_n        "
   ]
  },
  {
   "cell_type": "code",
   "execution_count": null,
   "id": "75a82e77-604d-459d-9b65-6220747c399f",
   "metadata": {},
   "outputs": [],
   "source": [
    "def plot_log_linear_fits(R2_by_n, ax = None):\n",
    "    if ax is None:\n",
    "        plt.figure(figsize=(30,10))\n",
    "        ax = plt.gca()\n",
    "    for i,R2 in enumerate(R2_by_n):\n",
    "        if(i < 2):\n",
    "            continue\n",
    "        ax.plot(np.linspace(0, 1, num=len(R2)), R2,label=\"n = %d\" % (4**i))\n",
    "    ax_i.set_xlabel('Number of Trains')\n",
    "    ax_i.set_ylabel('$R^2$')\n",
    "    ax.legend()"
   ]
  },
  {
   "cell_type": "code",
   "execution_count": null,
   "id": "0ebfee15-27d7-417f-8043-2928a6c34a3d",
   "metadata": {},
   "outputs": [],
   "source": [
    "def combine_runs(runs):\n",
    "    comb_xgm = None\n",
    "    comb_motor_x = None\n",
    "    comb_motor_y = None\n",
    "    comb_radavg = None\n",
    "    comb_xgm2 = None\n",
    "    comb_I = None\n",
    "    comb_R2 = None\n",
    "    comb_slopes = None\n",
    "    for run in runs:\n",
    "        xgm, motor_x, motor_y, radavg, xgm2 = read_run_sync_trains(run, verbose=False)\n",
    "        xgm, radavg, xgm2 = sync_pulses(xgm, radavg, xgm2)\n",
    "        I = integrate_q_range(radavg, verbose=False)\n",
    "        slopes, intercept, R2, _ = linear_fit_trains(xgm, I)\n",
    "        R2_by_n = log_linear_fits(xgm, I)\n",
    "        #_, _, R2_2, _ = linear_fit_trains(xgm, I, n = 2)\n",
    "        if comb_R2 is None:\n",
    "            comb_R2 = R2\n",
    "        else:\n",
    "            comb_R2 = np.append(comb_R2, R2)\n",
    "        if comb_slopes is None:\n",
    "            comb_slopes = slopes\n",
    "        else:\n",
    "            comb_slopes = np.append(comb_slopes, slopes)\n",
    "    return comb_R2, comb_slopes, R2_by_n"
   ]
  },
  {
   "cell_type": "code",
   "execution_count": null,
   "id": "6faa6743-84b1-417b-b69e-1b0e25e44a7f",
   "metadata": {},
   "outputs": [],
   "source": [
    "comb_R2, comb_slopes, R2_by_n = combine_runs([83,84,85,86])"
   ]
  },
  {
   "cell_type": "code",
   "execution_count": null,
   "id": "dd97d6c5-f650-4f04-8b34-6416dae922ff",
   "metadata": {},
   "outputs": [],
   "source": [
    "comb_R2_lj,comb_slopes_lj, R2_by_n_lj = combine_runs([188,189,190,191,192])"
   ]
  },
  {
   "cell_type": "code",
   "execution_count": null,
   "id": "12e4ac15-e43b-4a40-809a-bf492ecf8aa6",
   "metadata": {},
   "outputs": [],
   "source": [
    "fig_handle = plt.figure(figsize=(30,10))\n",
    "spec_handle = fig_handle.add_gridspec(nrows = 1, ncols = 2)\n",
    "ax_i = fig_handle.add_subplot(spec_handle[0,0])\n",
    "plot_log_linear_fits(R2_by_n, ax=ax_i)\n",
    "ax_i.set_ylim([0,1])\n",
    "ax_i.set_title('$R^2$ between scattered I and XGM for n consecutive trains with GDVN')\n",
    "\n",
    "ax_i = fig_handle.add_subplot(spec_handle[0,1])\n",
    "plot_log_linear_fits(R2_by_n_lj, ax=ax_i)\n",
    "ax_i.set_ylim([0,1])\n",
    "ax_i.set_title('$R^2$ between scattered I and XGM for n consecutive trains with flat jet');"
   ]
  },
  {
   "cell_type": "code",
   "execution_count": null,
   "id": "d0e7d620-52f5-41c7-8228-8d93fccd31d1",
   "metadata": {},
   "outputs": [],
   "source": [
    "fig_handle = plt.figure(figsize=(30,10))\n",
    "spec_handle = fig_handle.add_gridspec(nrows = 1, ncols = 2)\n",
    "ax_i = fig_handle.add_subplot(spec_handle[0,0])\n",
    "ax_i.plot(comb_R2,'.')\n",
    "ax_i.set_ylim([0,1])\n",
    "ax_i.set_title('$R^2$ between scattered I and XGM with GDVN')\n",
    "ax_i.set_xlabel('Number of Trains')\n",
    "ax_i.set_ylabel('$R^2$')\n",
    "    \n",
    "ax_i = fig_handle.add_subplot(spec_handle[0,1])\n",
    "ax_i.plot(comb_R2_lj,'.')\n",
    "ax_i.set_ylim([0,1])\n",
    "ax_i.set_title('$R^2$ between scattered I and XGM with flat jet');\n",
    "ax_i.set_xlabel('Number of Trains')\n",
    "ax_i.set_ylabel('$R^2$');"
   ]
  },
  {
   "cell_type": "code",
   "execution_count": null,
   "id": "f482761a-bc02-41a0-b4a3-006f3b8216d9",
   "metadata": {},
   "outputs": [],
   "source": [
    "fig_handle = plt.figure(figsize=(30,10))\n",
    "spec_handle = fig_handle.add_gridspec(nrows = 1, ncols = 2)\n",
    "ax_i = fig_handle.add_subplot(spec_handle[0,0])\n",
    "ax_i.plot(comb_slopes,'.')\n",
    "ax_i.set_title('Slopes for the fit between scattered I and XGM with GDVN')\n",
    "ax_i.set_xlabel('Number of Trains')\n",
    "ax_i.set_ylabel('$R^2$')\n",
    "ax_i.set_ylim([0,60])\n",
    "    \n",
    "ax_i = fig_handle.add_subplot(spec_handle[0,1])\n",
    "ax_i.plot(comb_slopes_lj,'.')\n",
    "ax_i.set_title('Slopes for the fit between scattered I and XGM with flat jet');\n",
    "ax_i.set_xlabel('Number of Trains')\n",
    "ax_i.set_ylabel('$R^2$');\n",
    "ax_i.set_ylim([0,60])"
   ]
  },
  {
   "cell_type": "code",
   "execution_count": null,
   "id": "0c36a215-699c-415e-b30c-05e5061efa8a",
   "metadata": {},
   "outputs": [],
   "source": [
    "plot_all(np.arange(148,151))"
   ]
  },
  {
   "cell_type": "code",
   "execution_count": null,
   "id": "d50ec829-db3c-4e44-b780-7272edde3e45",
   "metadata": {},
   "outputs": [],
   "source": [
    "plot_all(np.arange(184,198))"
   ]
  },
  {
   "cell_type": "code",
   "execution_count": null,
   "id": "775a47cc-8f53-4fb6-9797-7f0770d63cf4",
   "metadata": {},
   "outputs": [],
   "source": [
    "plot_all(np.arange(128,147))"
   ]
  },
  {
   "cell_type": "code",
   "execution_count": null,
   "id": "f368cf22-dd7a-4e85-a48b-bcf3fab1025d",
   "metadata": {},
   "outputs": [],
   "source": [
    "run = 195\n",
    "xgm, motor_x, motor_y, radavg, xgm2 = read_run_sync_trains(run, verbose=False)\n",
    "xgm, radavg, xgm2 = sync_pulses(xgm, radavg, xgm2)\n",
    "I = integrate_q_range(radavg, verbose=False)\n",
    "slopes, intercept, R2, RelError = linear_fit_trains(xgm, I, n=1)\n",
    "_, _, R2_xgm, _ = linear_fit_trains(xgm, xgm2, n=1)"
   ]
  },
  {
   "cell_type": "code",
   "execution_count": null,
   "id": "4d450585-9301-4e76-a6d0-ffb7f70905e5",
   "metadata": {},
   "outputs": [],
   "source": [
    "xgm_range = np.max(xgm,axis=1)-np.min(xgm,axis=1)"
   ]
  },
  {
   "cell_type": "code",
   "execution_count": null,
   "id": "301293be-c21e-47ab-8322-c859cc6954ed",
   "metadata": {},
   "outputs": [],
   "source": [
    "plt.plot(xgm_range)"
   ]
  },
  {
   "cell_type": "code",
   "execution_count": null,
   "id": "214ee615-9b84-41c0-884a-a0c8f0722250",
   "metadata": {},
   "outputs": [],
   "source": [
    "plt.plot(R2/(R2_xgm*(np.std(R2)/np.std(R2_xgm))))"
   ]
  },
  {
   "cell_type": "code",
   "execution_count": null,
   "id": "d6decc5e-12ab-437b-b439-febc1ef5de0a",
   "metadata": {},
   "outputs": [],
   "source": [
    "plt.plot(1-R2_xgm)"
   ]
  },
  {
   "cell_type": "code",
   "execution_count": null,
   "id": "7269ad84-d878-4042-b418-25c5c4a291db",
   "metadata": {},
   "outputs": [],
   "source": [
    "plt.plot(1-(1-R2)*(1/(1-R2_xgm))*(1-np.mean(R2_xgm)))"
   ]
  },
  {
   "cell_type": "code",
   "execution_count": null,
   "id": "34019589-0bb3-4e21-a62c-916710ccacb3",
   "metadata": {},
   "outputs": [],
   "source": [
    "plot_xgm_vs_I(xgm, I, sample_trains=10)"
   ]
  },
  {
   "cell_type": "code",
   "execution_count": null,
   "id": "45b8ae8c-0a1f-4431-bec5-e670c6c46adb",
   "metadata": {},
   "outputs": [],
   "source": [
    "plot_R2_vs_motor(RelError, motor_x, motor_y)"
   ]
  },
  {
   "cell_type": "code",
   "execution_count": null,
   "id": "b3ac90aa-f729-4c2a-8e40-2be51e2d5d5e",
   "metadata": {},
   "outputs": [],
   "source": [
    "plot_R2_vs_slope(RelError, slopes)"
   ]
  },
  {
   "cell_type": "code",
   "execution_count": null,
   "id": "bd46e19e-a736-4358-937b-32f83da5ee13",
   "metadata": {},
   "outputs": [],
   "source": [
    "plot_all(np.arange(184,198))"
   ]
  },
  {
   "cell_type": "code",
   "execution_count": null,
   "id": "d840cb09-bfe2-45c0-9f7e-ba178678e841",
   "metadata": {},
   "outputs": [],
   "source": [
    "plot_all(np.arange(146,161))"
   ]
  },
  {
   "cell_type": "code",
   "execution_count": null,
   "id": "4e799661-f7d8-4613-89e2-44932f50c0fd",
   "metadata": {},
   "outputs": [],
   "source": [
    "plot_all(np.arange(146,148))"
   ]
  },
  {
   "cell_type": "code",
   "execution_count": null,
   "id": "51d36552-8392-4370-8640-866ee4692a2e",
   "metadata": {},
   "outputs": [],
   "source": [
    "plot_all(np.arange(148,159))"
   ]
  },
  {
   "cell_type": "code",
   "execution_count": null,
   "id": "f650c514-e2bd-4784-aab8-9229d33b98e6",
   "metadata": {},
   "outputs": [],
   "source": [
    "plot_all(np.arange(190,194))"
   ]
  },
  {
   "cell_type": "code",
   "execution_count": null,
   "id": "b49adc61-e3bf-4ba8-b935-82afa952640e",
   "metadata": {},
   "outputs": [],
   "source": [
    "plot_all(np.arange(194,197))"
   ]
  },
  {
   "cell_type": "code",
   "execution_count": null,
   "id": "9f3677a1-8272-4ee7-8d0c-9ac99f9d1799",
   "metadata": {},
   "outputs": [],
   "source": [
    "gold_score = look_for_gold(xgm, radavg, I)"
   ]
  },
  {
   "cell_type": "code",
   "execution_count": null,
   "id": "05f68c8d-7342-4c3c-9fed-59256d302696",
   "metadata": {},
   "outputs": [],
   "source": [
    "plt.plot(gold_score.flatten())"
   ]
  },
  {
   "cell_type": "code",
   "execution_count": null,
   "id": "d37fe1a5-8d98-4fab-9207-2f090e7a7702",
   "metadata": {},
   "outputs": [],
   "source": [
    "plot_all(np.arange(201,209))"
   ]
  },
  {
   "cell_type": "code",
   "execution_count": null,
   "id": "c9a2354d-924f-4707-a813-b9de0500406e",
   "metadata": {},
   "outputs": [],
   "source": [
    "plot_all(201)"
   ]
  },
  {
   "cell_type": "code",
   "execution_count": null,
   "id": "52e1b87c-5d7f-4a15-85a8-ad4015facb60",
   "metadata": {},
   "outputs": [],
   "source": [
    "plot_all(np.arange(202,209))"
   ]
  },
  {
   "cell_type": "code",
   "execution_count": null,
   "id": "b581cdbb-990e-44e5-b598-0c1dd9f31feb",
   "metadata": {},
   "outputs": [],
   "source": [
    "xgm, motor_x, motor_y, radavg = read_run_sync_trains(194)\n",
    "xgm, radavg = sync_pulses(xgm, radavg)\n",
    "I = integrate_q_range(radavg)"
   ]
  },
  {
   "cell_type": "code",
   "execution_count": null,
   "id": "796cc6f7-f363-4cae-b381-68d8ff6b9378",
   "metadata": {},
   "outputs": [],
   "source": [
    "slopes, intercept, R2 = linear_fit_trains(xgm, I, n=1)"
   ]
  },
  {
   "cell_type": "code",
   "execution_count": null,
   "id": "9b29777a-a949-44b5-8903-68c445ec017b",
   "metadata": {},
   "outputs": [],
   "source": [
    "plt.plot(np.nanmean(xgm,axis=0))\n"
   ]
  },
  {
   "cell_type": "code",
   "execution_count": null,
   "id": "c90ad0e4-1b4b-47a9-a2a3-c3cb5878f541",
   "metadata": {},
   "outputs": [],
   "source": [
    "slopes, intercept, R2 = linear_fit_trains(xgm, I, n=1)"
   ]
  },
  {
   "cell_type": "code",
   "execution_count": null,
   "id": "33fb7b2a-be34-47c9-8090-ec5c77ca13a8",
   "metadata": {},
   "outputs": [],
   "source": [
    "np.mean(R2[:500])"
   ]
  },
  {
   "cell_type": "code",
   "execution_count": null,
   "id": "397d1a54-9137-4aa4-b644-7d8d0362b2c5",
   "metadata": {},
   "outputs": [],
   "source": [
    "plot_R2_vs_slope(R2, slopes)"
   ]
  },
  {
   "cell_type": "code",
   "execution_count": null,
   "id": "03d1f0d4-6262-43a5-8050-5f966ba4d6c3",
   "metadata": {},
   "outputs": [],
   "source": [
    "radavg.coords['q']"
   ]
  },
  {
   "cell_type": "code",
   "execution_count": null,
   "id": "7eaf84a4-ad6b-4f67-857a-d5b4d7657f22",
   "metadata": {},
   "outputs": [],
   "source": []
  }
 ],
 "metadata": {
  "kernelspec": {
   "display_name": "xfel (Python 3.7)",
   "language": "python",
   "name": "xfel"
  },
  "language_info": {
   "codemirror_mode": {
    "name": "ipython",
    "version": 3
   },
   "file_extension": ".py",
   "mimetype": "text/x-python",
   "name": "python",
   "nbconvert_exporter": "python",
   "pygments_lexer": "ipython3",
   "version": "3.7.3"
  }
 },
 "nbformat": 4,
 "nbformat_minor": 5
}
