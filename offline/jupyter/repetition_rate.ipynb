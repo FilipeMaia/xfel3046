{
 "cells": [
  {
   "cell_type": "code",
   "execution_count": null,
   "id": "2df8a9c1-29d8-47c8-afb4-471f2e4734aa",
   "metadata": {},
   "outputs": [],
   "source": [
    "from extra_data import RunDirectory \n",
    "import h5py \n",
    "import numpy as np \n",
    "import matplotlib.pyplot as plt "
   ]
  },
  {
   "cell_type": "code",
   "execution_count": null,
   "id": "8d756d17-1dcb-4e15-91dd-3f65e45b898c",
   "metadata": {},
   "outputs": [],
   "source": [
    "def rep_rate(r,show_title=True):\n",
    "    max_rate = 4514\n",
    "    run = RunDirectory(path='/pnfs/xfel.eu/exfel/archive/XFEL/raw/SPB/202202/p003046/r%04d' % (r))\n",
    "    sel = run.select(['SPB_RR_SYS/MDL/BUNCH_PATTERN', '*'])\n",
    "    pulse_ids = sel['SPB_RR_SYS/MDL/BUNCH_PATTERN','sase1.pulseIds.value'].xarray()\n",
    "    plt.figure()\n",
    "    plt.plot(max_rate/(pulse_ids.data[:,1]-pulse_ids.data[:,0]))\n",
    "    if(show_title):\n",
    "        plt.title('Intratrain Repetition Rate - Run %d' % (r))\n",
    "    plt.xlabel('Train number')\n",
    "    plt.ylabel('Intratrain repetition rate (kHz)')\n",
    "    plt.show()\n",
    "    "
   ]
  },
  {
   "cell_type": "code",
   "execution_count": null,
   "id": "c785320a-43ab-4af3-ad1a-3d5ec3236d62",
   "metadata": {},
   "outputs": [],
   "source": [
    "for i in range(184,209):\n",
    "    rep_rate(i)"
   ]
  },
  {
   "cell_type": "code",
   "execution_count": null,
   "id": "09c02efd-2672-4052-9b52-a9df521d1d12",
   "metadata": {},
   "outputs": [],
   "source": []
  }
 ],
 "metadata": {
  "kernelspec": {
   "display_name": "xfel (202301)",
   "language": "python",
   "name": "xfel-202301"
  },
  "language_info": {
   "codemirror_mode": {
    "name": "ipython",
    "version": 3
   },
   "file_extension": ".py",
   "mimetype": "text/x-python",
   "name": "python",
   "nbconvert_exporter": "python",
   "pygments_lexer": "ipython3",
   "version": "3.9.16"
  }
 },
 "nbformat": 4,
 "nbformat_minor": 5
}
