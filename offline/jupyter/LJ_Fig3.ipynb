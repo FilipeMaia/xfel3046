{
 "cells": [
  {
   "cell_type": "code",
   "execution_count": null,
   "id": "a71df29f-d8b7-438d-892e-2fcd57f40309",
   "metadata": {},
   "outputs": [],
   "source": []
  },
  {
   "cell_type": "code",
   "execution_count": null,
   "id": "33ac1c47-94e1-48d0-b905-456360df77b4",
   "metadata": {},
   "outputs": [],
   "source": [
    "from extra_data import RunDirectory \n",
    "import h5py \n",
    "import numpy as np \n",
    "%matplotlib widget\n",
    "import matplotlib.pyplot as plt "
   ]
  },
  {
   "cell_type": "code",
   "execution_count": null,
   "id": "771218a5-0aeb-45e4-a5f8-5a7ab7177fd8",
   "metadata": {},
   "outputs": [],
   "source": [
    "def extract_gifs(r, verbose=True):\n",
    "    run = RunDirectory(path=f'/gpfs/exfel/exp/SPB/202202/p003046/raw/r%04d' % (r))  \n",
    "    \n",
    "    # The require_all=True ensures we only get trains which exist for all sources\n",
    "    sel = run.select([\n",
    "        ('SPB_XTD9_XGM/XGM/DOOCS:output', 'data.intensitySa1TD'),\n",
    "        ('SPB_IRU_MOTORS/MDL/DATA_SELECT', '*'),\n",
    "        ('SPB_EXP_ZYLA/CAM/1:daqOutput', 'data.image.pixels'),\n",
    "        ('LA1_LAS_PPL/CTRL/TRGDLY', 'triggerFE_UPSTREAM.value'), \n",
    "    ], require_all=True)\n",
    "    if(verbose):\n",
    "        sel.info()   \n",
    "    sidemic_extra = sel['SPB_EXP_ZYLA/CAM/1:daqOutput', 'data.image.pixels']\n",
    "    trains = sidemic_extra.train_id_coordinates()\n",
    "    sidemic = sidemic_extra.xarray()\n",
    "    extra = sel['LA1_LAS_PPL/CTRL/TRGDLY', 'triggerFE_UPSTREAM.value']\n",
    "    delay = extra.xarray()\n",
    "    return sidemic, delay"
   ]
  },
  {
   "cell_type": "code",
   "execution_count": null,
   "id": "4e83e236-9d45-4dd0-a5fa-d2872679e65c",
   "metadata": {},
   "outputs": [],
   "source": [
    "sidemic, delay = extract_gifs(188)"
   ]
  },
  {
   "cell_type": "code",
   "execution_count": null,
   "id": "85211fb6-6a35-41ef-81c8-25cc58fc5033",
   "metadata": {},
   "outputs": [],
   "source": [
    "xray_delay = delay[0]"
   ]
  },
  {
   "cell_type": "code",
   "execution_count": null,
   "id": "9d080dd2-9fbd-4090-8204-b5ad50e58fe5",
   "metadata": {},
   "outputs": [],
   "source": [
    "dt = [0, 1, 2, 7.2, 31, 95]\n",
    "tol_dt = [0.05, 0.05, 0.05, 0.08, 1, 1]"
   ]
  },
  {
   "cell_type": "code",
   "execution_count": null,
   "id": "303f0aa8-032c-4a0c-a058-3aab5e43e1b7",
   "metadata": {},
   "outputs": [],
   "source": [
    "runs = [188, 190, 192]"
   ]
  },
  {
   "cell_type": "code",
   "execution_count": null,
   "id": "43569493-b961-4f2f-a3ca-0916ef5d29da",
   "metadata": {},
   "outputs": [],
   "source": [
    "runs = [190]"
   ]
  },
  {
   "cell_type": "code",
   "execution_count": null,
   "id": "fa291d68-212c-4ac0-8996-de924637ae73",
   "metadata": {},
   "outputs": [],
   "source": [
    "cmap = 'gray'\n",
    "for r in runs:\n",
    "    #sidemic, delay = extract_gifs(r)\n",
    "    for t, tol_t in zip(dt, tol_dt):\n",
    "        idx = np.where(np.abs((delay-xray_delay) - t) <  tol_t)[0]\n",
    "        if(len(idx) == 0):\n",
    "            continue\n",
    "        idx = np.min(idx).astype(int)+160\n",
    "        fig = plt.figure(figsize=(1,2.7),dpi=400, frameon=False)\n",
    "        ax = plt.Axes(fig, [0., 0., 1., 1.])\n",
    "        ax.set_axis_off()\n",
    "        fig.add_axes(ax)\n",
    "        img = plt.imshow(sidemic[idx,200:1280,200:600])\n",
    "        img.set_cmap(cmap)\n",
    "        print('Time Delay = %.1f us' % ((delay[idx]-xray_delay)))\n",
    "        plt.savefig('../figures/LJ_Fig3_delta_T_%.1fus_%s.png' % ((delay[idx]-xray_delay), cmap))"
   ]
  },
  {
   "cell_type": "code",
   "execution_count": null,
   "id": "5793aa4f-8daf-4b2a-baa9-220a53b22e0e",
   "metadata": {},
   "outputs": [],
   "source": [
    "plt.figure()\n",
    "plt.plot(delay-xray_delay)"
   ]
  },
  {
   "cell_type": "code",
   "execution_count": null,
   "id": "a49e15b5-143b-4b02-acb7-c59684aaf1bf",
   "metadata": {},
   "outputs": [],
   "source": []
  }
 ],
 "metadata": {
  "kernelspec": {
   "display_name": "xfel (current)",
   "language": "python",
   "name": "xfel-current"
  },
  "language_info": {
   "codemirror_mode": {
    "name": "ipython",
    "version": 3
   },
   "file_extension": ".py",
   "mimetype": "text/x-python",
   "name": "python",
   "nbconvert_exporter": "python",
   "pygments_lexer": "ipython3",
   "version": "3.9.16"
  }
 },
 "nbformat": 4,
 "nbformat_minor": 5
}
