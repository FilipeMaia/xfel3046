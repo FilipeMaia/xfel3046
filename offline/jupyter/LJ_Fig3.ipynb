{
 "cells": [
  {
   "cell_type": "code",
   "execution_count": null,
   "id": "a71df29f-d8b7-438d-892e-2fcd57f40309",
   "metadata": {},
   "outputs": [],
   "source": []
  },
  {
   "cell_type": "code",
   "execution_count": 1,
   "id": "33ac1c47-94e1-48d0-b905-456360df77b4",
   "metadata": {},
   "outputs": [],
   "source": [
    "from extra_data import RunDirectory \n",
    "import h5py \n",
    "import numpy as np \n",
    "%matplotlib widget\n",
    "import matplotlib.pyplot as plt "
   ]
  },
  {
   "cell_type": "code",
   "execution_count": 2,
   "id": "771218a5-0aeb-45e4-a5f8-5a7ab7177fd8",
   "metadata": {},
   "outputs": [],
   "source": [
    "def extract_gifs(r, verbose=True):\n",
    "    run = RunDirectory(path=f'/gpfs/exfel/exp/SPB/202202/p003046/raw/r%04d' % (r))  \n",
    "    \n",
    "    # The require_all=True ensures we only get trains which exist for all sources\n",
    "    sel = run.select([\n",
    "        ('SPB_XTD9_XGM/XGM/DOOCS:output', 'data.intensitySa1TD'),\n",
    "        ('SPB_IRU_MOTORS/MDL/DATA_SELECT', '*'),\n",
    "        ('SPB_EXP_ZYLA/CAM/1:daqOutput', 'data.image.pixels'),\n",
    "        ('LA1_LAS_PPL/CTRL/TRGDLY', 'triggerFE_UPSTREAM.value'), \n",
    "    ], require_all=True)\n",
    "    if(verbose):\n",
    "        sel.info()   \n",
    "    sidemic_extra = sel['SPB_EXP_ZYLA/CAM/1:daqOutput', 'data.image.pixels']\n",
    "    trains = sidemic_extra.train_id_coordinates()\n",
    "    sidemic = sidemic_extra.xarray()\n",
    "    extra = sel['LA1_LAS_PPL/CTRL/TRGDLY', 'triggerFE_UPSTREAM.value']\n",
    "    delay = extra.xarray()\n",
    "    return sidemic, delay"
   ]
  },
  {
   "cell_type": "code",
   "execution_count": 3,
   "id": "4e83e236-9d45-4dd0-a5fa-d2872679e65c",
   "metadata": {},
   "outputs": [
    {
     "name": "stdout",
     "output_type": "stream",
     "text": [
      "# of trains:    3125\n",
      "Duration:       0:05:12.6\n",
      "First train ID: 1475318358\n",
      "Last train ID:  1475321483\n",
      "\n",
      "0 detector modules ()\n",
      "\n",
      "2 instrument sources (excluding detectors):\n",
      "  - SPB_EXP_ZYLA/CAM/1:daqOutput\n",
      "  - SPB_XTD9_XGM/XGM/DOOCS:output\n",
      "\n",
      "2 control sources:\n",
      "  - LA1_LAS_PPL/CTRL/TRGDLY\n",
      "  - SPB_IRU_MOTORS/MDL/DATA_SELECT\n",
      "\n"
     ]
    }
   ],
   "source": [
    "sidemic, delay = extract_gifs(188)"
   ]
  },
  {
   "cell_type": "code",
   "execution_count": 4,
   "id": "85211fb6-6a35-41ef-81c8-25cc58fc5033",
   "metadata": {},
   "outputs": [],
   "source": [
    "xray_delay = delay[0]"
   ]
  },
  {
   "cell_type": "code",
   "execution_count": 88,
   "id": "9d080dd2-9fbd-4090-8204-b5ad50e58fe5",
   "metadata": {},
   "outputs": [],
   "source": [
    "dt = [0, 1, 2, 7, 31, 95]\n",
    "tol_dt = [0.05, 0.05, 0.05, 0.05, 1, 1]"
   ]
  },
  {
   "cell_type": "code",
   "execution_count": 104,
   "id": "303f0aa8-032c-4a0c-a058-3aab5e43e1b7",
   "metadata": {},
   "outputs": [],
   "source": [
    "runs = [188, 190, 192]"
   ]
  },
  {
   "cell_type": "code",
   "execution_count": 105,
   "id": "fa291d68-212c-4ac0-8996-de924637ae73",
   "metadata": {},
   "outputs": [
    {
     "name": "stdout",
     "output_type": "stream",
     "text": [
      "# of trains:    3125\n",
      "Duration:       0:05:12.6\n",
      "First train ID: 1475318358\n",
      "Last train ID:  1475321483\n",
      "\n",
      "0 detector modules ()\n",
      "\n",
      "2 instrument sources (excluding detectors):\n",
      "  - SPB_EXP_ZYLA/CAM/1:daqOutput\n",
      "  - SPB_XTD9_XGM/XGM/DOOCS:output\n",
      "\n",
      "2 control sources:\n",
      "  - LA1_LAS_PPL/CTRL/TRGDLY\n",
      "  - SPB_IRU_MOTORS/MDL/DATA_SELECT\n",
      "\n"
     ]
    },
    {
     "data": {
      "application/vnd.jupyter.widget-view+json": {
       "model_id": "f190f62bdea648799f40da725de6df50",
       "version_major": 2,
       "version_minor": 0
      },
      "text/plain": [
       "Canvas(toolbar=Toolbar(toolitems=[('Home', 'Reset original view', 'home', 'home'), ('Back', 'Back to previous …"
      ]
     },
     "metadata": {},
     "output_type": "display_data"
    },
    {
     "name": "stdout",
     "output_type": "stream",
     "text": [
      "Time Delay = 0.0 us\n"
     ]
    },
    {
     "data": {
      "application/vnd.jupyter.widget-view+json": {
       "model_id": "3bec1e024a994808b261106d836d6c09",
       "version_major": 2,
       "version_minor": 0
      },
      "text/plain": [
       "Canvas(toolbar=Toolbar(toolitems=[('Home', 'Reset original view', 'home', 'home'), ('Back', 'Back to previous …"
      ]
     },
     "metadata": {},
     "output_type": "display_data"
    },
    {
     "name": "stdout",
     "output_type": "stream",
     "text": [
      "Time Delay = 1.0 us\n"
     ]
    },
    {
     "data": {
      "application/vnd.jupyter.widget-view+json": {
       "model_id": "24b6815691ea4426a2f5d636540176ff",
       "version_major": 2,
       "version_minor": 0
      },
      "text/plain": [
       "Canvas(toolbar=Toolbar(toolitems=[('Home', 'Reset original view', 'home', 'home'), ('Back', 'Back to previous …"
      ]
     },
     "metadata": {},
     "output_type": "display_data"
    },
    {
     "name": "stdout",
     "output_type": "stream",
     "text": [
      "Time Delay = 2.0 us\n",
      "# of trains:    3126\n",
      "Duration:       0:05:12.6\n",
      "First train ID: 1475324867\n",
      "Last train ID:  1475327992\n",
      "\n",
      "0 detector modules ()\n",
      "\n",
      "2 instrument sources (excluding detectors):\n",
      "  - SPB_EXP_ZYLA/CAM/1:daqOutput\n",
      "  - SPB_XTD9_XGM/XGM/DOOCS:output\n",
      "\n",
      "2 control sources:\n",
      "  - LA1_LAS_PPL/CTRL/TRGDLY\n",
      "  - SPB_IRU_MOTORS/MDL/DATA_SELECT\n",
      "\n"
     ]
    },
    {
     "data": {
      "application/vnd.jupyter.widget-view+json": {
       "model_id": "d76abd17f064466592bc28a52d44a51c",
       "version_major": 2,
       "version_minor": 0
      },
      "text/plain": [
       "Canvas(toolbar=Toolbar(toolitems=[('Home', 'Reset original view', 'home', 'home'), ('Back', 'Back to previous …"
      ]
     },
     "metadata": {},
     "output_type": "display_data"
    },
    {
     "name": "stdout",
     "output_type": "stream",
     "text": [
      "Time Delay = 7.0 us\n",
      "# of trains:    1493\n",
      "Duration:       0:02:29.5\n",
      "First train ID: 1475329993\n",
      "Last train ID:  1475331487\n",
      "\n",
      "0 detector modules ()\n",
      "\n",
      "2 instrument sources (excluding detectors):\n",
      "  - SPB_EXP_ZYLA/CAM/1:daqOutput\n",
      "  - SPB_XTD9_XGM/XGM/DOOCS:output\n",
      "\n",
      "2 control sources:\n",
      "  - LA1_LAS_PPL/CTRL/TRGDLY\n",
      "  - SPB_IRU_MOTORS/MDL/DATA_SELECT\n",
      "\n"
     ]
    },
    {
     "data": {
      "application/vnd.jupyter.widget-view+json": {
       "model_id": "e6a596add0ff4f439ef3062116383cdf",
       "version_major": 2,
       "version_minor": 0
      },
      "text/plain": [
       "Canvas(toolbar=Toolbar(toolitems=[('Home', 'Reset original view', 'home', 'home'), ('Back', 'Back to previous …"
      ]
     },
     "metadata": {},
     "output_type": "display_data"
    },
    {
     "name": "stdout",
     "output_type": "stream",
     "text": [
      "Time Delay = 31.4 us\n"
     ]
    },
    {
     "data": {
      "application/vnd.jupyter.widget-view+json": {
       "model_id": "769c8eaf3b1a4820b1462f13d31e2525",
       "version_major": 2,
       "version_minor": 0
      },
      "text/plain": [
       "Canvas(toolbar=Toolbar(toolitems=[('Home', 'Reset original view', 'home', 'home'), ('Back', 'Back to previous …"
      ]
     },
     "metadata": {},
     "output_type": "display_data"
    },
    {
     "name": "stdout",
     "output_type": "stream",
     "text": [
      "Time Delay = 95.2 us\n"
     ]
    }
   ],
   "source": [
    "cmap = 'gray'\n",
    "for r in runs:\n",
    "    sidemic, delay = extract_gifs(r)\n",
    "    for t, tol_t in zip(dt, tol_dt):\n",
    "        idx = np.where(np.abs((delay-xray_delay) - t) <  tol_t)[0]\n",
    "        if(len(idx) == 0):\n",
    "            continue\n",
    "        idx = np.median(idx).astype(int)\n",
    "        fig = plt.figure(figsize=(1,2.7),dpi=400, frameon=False)\n",
    "        ax = plt.Axes(fig, [0., 0., 1., 1.])\n",
    "        ax.set_axis_off()\n",
    "        fig.add_axes(ax)\n",
    "        img = plt.imshow(sidemic[idx,200:1280,200:600])\n",
    "        img.set_cmap(cmap)\n",
    "        print('Time Delay = %.1f us' % ((delay[idx]-xray_delay)))\n",
    "        plt.savefig('../figures/LJ_Fig3_delta_T_%.1fus_%s.png' % ((delay[idx]-xray_delay), cmap))"
   ]
  }
 ],
 "metadata": {
  "kernelspec": {
   "display_name": "xfel (current)",
   "language": "python",
   "name": "xfel-current"
  },
  "language_info": {
   "codemirror_mode": {
    "name": "ipython",
    "version": 3
   },
   "file_extension": ".py",
   "mimetype": "text/x-python",
   "name": "python",
   "nbconvert_exporter": "python",
   "pygments_lexer": "ipython3",
   "version": "3.9.16"
  }
 },
 "nbformat": 4,
 "nbformat_minor": 5
}
